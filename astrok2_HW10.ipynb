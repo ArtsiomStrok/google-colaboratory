{
  "nbformat": 4,
  "nbformat_minor": 0,
  "metadata": {
    "colab": {
      "name": "astrok2_HW10.ipynb",
      "version": "0.3.2",
      "provenance": [],
      "collapsed_sections": [],
      "toc_visible": true,
      "include_colab_link": true
    },
    "language_info": {
      "codemirror_mode": {
        "name": "ipython",
        "version": 3
      },
      "file_extension": ".py",
      "mimetype": "text/x-python",
      "name": "python",
      "nbconvert_exporter": "python",
      "pygments_lexer": "ipython3",
      "version": "3.6.8"
    },
    "kernelspec": {
      "name": "python3",
      "display_name": "Python 3"
    },
    "accelerator": "GPU"
  },
  "cells": [
    {
      "cell_type": "markdown",
      "metadata": {
        "id": "view-in-github",
        "colab_type": "text"
      },
      "source": [
        "<a href=\"https://colab.research.google.com/github/ArtsiomStrok/google-colaboratory/blob/master/astrok2_HW10.ipynb\" target=\"_parent\"><img src=\"https://colab.research.google.com/assets/colab-badge.svg\" alt=\"Open In Colab\"/></a>"
      ]
    },
    {
      "metadata": {
        "colab_type": "text",
        "id": "T5Kx8gJBJEW_"
      },
      "cell_type": "markdown",
      "source": [
        "## About"
      ]
    },
    {
      "metadata": {
        "colab_type": "text",
        "id": "vUTgGUi4JEft"
      },
      "cell_type": "markdown",
      "source": [
        "# Homework 10 - CIFAR10 Image Classification with PyTorch"
      ]
    },
    {
      "metadata": {
        "colab_type": "text",
        "id": "aRAalfd1GITX"
      },
      "cell_type": "markdown",
      "source": [
        "The goal of the homework is to train a convolutional neural network on the standard CIFAR10 image classfication dataset.\n",
        "\n",
        "When solving machine learning tasks using neural networks, one typically starts with a simple network architecture and then improves the network by adding new layers, retraining, adjusting parameters, retraining, etc.  We attempt to illustrate this process below with several architecture improvements.\n"
      ]
    },
    {
      "metadata": {
        "colab_type": "text",
        "id": "OCl5gakxJes-"
      },
      "cell_type": "markdown",
      "source": [
        "## Dev Environment\n",
        "### Working on Google Colab\n",
        "You may choose to work locally or on Google Colaboratory. You have access to free compute through this service.   Colab is recommended since it will be setup correctly and will have access to GPU resources.\n",
        "1. Visit https://colab.research.google.com/drive \n",
        "2. Navigate to the **`Upload`** tab, and upload your `HW10.ipynb`\n",
        "3. Now on the top right corner, under the `Comment` and `Share` options, you should see a `Connect` option. Once you are connected, you will have access to a VM with 12GB RAM, 50 GB disk space and a single GPU. The dropdown menu will allow you to connect to a local runtime as well.\n",
        "\n",
        "**Notes:** \n",
        "* **If you do not have a working setup for Python 3, this is your best bet. It will also save you from heavy installations like `tensorflow` if you don't want to deal with those.**\n",
        "* ***There is a downside*. You can only use this instance for a single 12-hour stretch, after which your data will be deleted, and you would have redownload all your datasets, any libraries not already on the VM, and regenerate your logs**.\n",
        "\n",
        "\n",
        "### Installing PyTorch and Dependencies\n",
        "\n",
        "The instructions for installing and setting up PyTorch can be found at https://pytorch.org/get-started/locally/. Make sure you follow the instructions for your machine. For any of the remaining libraries used in this assignment:\n",
        "* We have provided a `hw8_requirements.txt` file on the homework web page. \n",
        "* Download this file, and in the same directory you can run `pip3 install -r hw8_requirements.txt`\n",
        "​\n",
        "Check that PyTorch installed correctly by running the following:"
      ]
    },
    {
      "metadata": {
        "colab_type": "code",
        "id": "IaJ6BLrAJeCU",
        "outputId": "ee8b495f-549d-4cf6-a5d0-7721c63cdd33",
        "colab": {
          "base_uri": "https://localhost:8080/",
          "height": 102
        }
      },
      "cell_type": "code",
      "source": [
        "import torch\n",
        "torch.rand(5, 3)"
      ],
      "execution_count": 1,
      "outputs": [
        {
          "output_type": "execute_result",
          "data": {
            "text/plain": [
              "tensor([[0.0853, 0.1304, 0.3737],\n",
              "        [0.4896, 0.4781, 0.7208],\n",
              "        [0.8050, 0.6602, 0.6396],\n",
              "        [0.5800, 0.7518, 0.1155],\n",
              "        [0.3396, 0.8442, 0.1338]])"
            ]
          },
          "metadata": {
            "tags": []
          },
          "execution_count": 1
        }
      ]
    },
    {
      "metadata": {
        "colab_type": "text",
        "id": "nEmmCk1IJiGn"
      },
      "cell_type": "markdown",
      "source": [
        "## Part 0 Imports and Basic Setup  (5 Points)"
      ]
    },
    {
      "metadata": {
        "colab_type": "text",
        "id": "Y3mTddKuXPBU"
      },
      "cell_type": "markdown",
      "source": [
        "First, import the required libraries as follows. The libraries we will use will be the same as those in HW8. "
      ]
    },
    {
      "metadata": {
        "colab_type": "code",
        "id": "UwtDsq3VbrNY",
        "colab": {}
      },
      "cell_type": "code",
      "source": [
        "import numpy as np\n",
        "import torch\n",
        "from torch import nn\n",
        "from torch import optim\n",
        "\n",
        "import matplotlib.pyplot as plt"
      ],
      "execution_count": 0,
      "outputs": []
    },
    {
      "metadata": {
        "colab_type": "text",
        "id": "QWKp_UGlWTyR"
      },
      "cell_type": "markdown",
      "source": [
        "**GPU Support**\n",
        "\n",
        "Training of large network can take a long time. PyTorch supports GPU with just a small amount of effort.\n",
        "\n",
        "When creating our networks, we will call \n",
        "`net.to(device)` to tell the network to train on the GPU, if one is available.  Note, if the network utilizes the GPU, it is important that any tensors we use with it (such as the data) also reside on the CPU.  Thus, a call like `images = images.to(device)` is necessary with any data we want to use with the GPU.\n",
        "\n",
        "Note: If you can't get access to a GPU, don't worry to much.  Since we use very small networks, the difference between CPU and GPU isn't large and in some cases GPU will actually be slower."
      ]
    },
    {
      "metadata": {
        "colab_type": "code",
        "id": "gbGGmnIXYca9",
        "outputId": "c45eff56-a25f-447e-da58-5e4dca5baa60",
        "colab": {
          "base_uri": "https://localhost:8080/",
          "height": 34
        }
      },
      "cell_type": "code",
      "source": [
        "import torch.cuda as cuda\n",
        "\n",
        "# Use a GPU, i.e. cuda:0 device if it available.\n",
        "device = torch.device(\"cuda:0\" if cuda.is_available() else \"cpu\")\n",
        "print(device)"
      ],
      "execution_count": 3,
      "outputs": [
        {
          "output_type": "stream",
          "text": [
            "cuda:0\n"
          ],
          "name": "stdout"
        }
      ]
    },
    {
      "metadata": {
        "colab_type": "text",
        "id": "07RjQbhF1tiK"
      },
      "cell_type": "markdown",
      "source": [
        "### Training Code"
      ]
    },
    {
      "metadata": {
        "cellView": "form",
        "colab_type": "code",
        "id": "_DZm8ammPCbL",
        "colab": {}
      },
      "cell_type": "code",
      "source": [
        "import time\n",
        "\n",
        "class Flatten(nn.Module):\n",
        "  \"\"\"NN Module that flattens the incoming tensor.\"\"\"\n",
        "  def forward(self, input):\n",
        "    return input.view(input.size(0), -1)\n",
        "  \n",
        "def train(model, train_loader, test_loader, loss_func, opt, scheduler, num_epochs=10):\n",
        "  all_training_loss = np.zeros((0,2))\n",
        "  all_training_acc = np.zeros((0,2))\n",
        "  all_test_loss = np.zeros((0,2))\n",
        "  all_test_acc = np.zeros((0,2))\n",
        "  \n",
        "  training_step = 0\n",
        "  training_loss, training_acc = 2.0, 0.0\n",
        "  print_every = 1000\n",
        "  \n",
        "  start = time.clock()\n",
        "  \n",
        "  for i in range(num_epochs):\n",
        "    epoch_start = time.clock() \n",
        "   \n",
        "    model.train()\n",
        "    for images, labels in train_loader:\n",
        "      images, labels = images.to(device), labels.to(device)\n",
        "      opt.zero_grad()\n",
        "\n",
        "      preds = model(images)\n",
        "      loss = loss_func(preds, labels)\n",
        "      loss.backward()\n",
        "      opt.step()\n",
        "      if scheduler:\n",
        "        scheduler.step() \n",
        "      \n",
        "      training_loss += loss.item()\n",
        "      training_acc += (torch.argmax(preds, dim=1)==labels).float().mean()\n",
        "      \n",
        "      if training_step % print_every == 0:\n",
        "        training_loss /= print_every\n",
        "        training_acc /= print_every\n",
        "        \n",
        "        all_training_loss = np.concatenate((all_training_loss, [[training_step, training_loss]]))\n",
        "        all_training_acc = np.concatenate((all_training_acc, [[training_step, training_acc]]))\n",
        "        \n",
        "        print('  Epoch %d @ step %d: Train Loss: %3f, Train Accuracy: %3f' % (\n",
        "            i, training_step, training_loss, training_acc))\n",
        "        training_loss, training_acc = 0.0, 0.0\n",
        "        \n",
        "      training_step+=1\n",
        "\n",
        "    model.eval()\n",
        "    with torch.no_grad():\n",
        "      validation_loss, validation_acc = 0.0, 0.0\n",
        "      count = 0\n",
        "      for images, labels in test_loader:\n",
        "        images, labels = images.to(device), labels.to(device)\n",
        "        output = model(images)\n",
        "        validation_loss+=loss_func(output,labels)\n",
        "        validation_acc+=(torch.argmax(output, dim=1) == labels).float().mean()\n",
        "        count += 1\n",
        "      validation_loss/=count\n",
        "      validation_acc/=count\n",
        "      \n",
        "      all_test_loss = np.concatenate((all_test_loss, [[training_step, validation_loss]]))\n",
        "      all_test_acc = np.concatenate((all_test_acc, [[training_step, validation_acc]]))\n",
        "      \n",
        "      epoch_time = time.clock() - epoch_start\n",
        "      \n",
        "      print('Epoch %d Test Loss: %3f, Test Accuracy: %3f, time: %.1fs' % (\n",
        "          i, validation_loss, validation_acc, epoch_time))\n",
        "      \n",
        "  total_time = time.clock() - start\n",
        "  print('Final Test Loss: %3f, Test Accuracy: %3f, Total time: %.1fs' % (\n",
        "      validation_loss, validation_acc, total_time))\n",
        "\n",
        "  return {'loss': { 'train': all_training_loss, 'test': all_test_loss },\n",
        "          'accuracy': { 'train': all_training_acc, 'test': all_test_acc }}\n",
        "\n",
        "def plot_graphs(model_name, metrics):\n",
        "  for metric, values in metrics.items():\n",
        "    for name, v in values.items():\n",
        "      plt.plot(v[:,0], v[:,1], label=name)\n",
        "    plt.title(f'{metric} for {model_name}')\n",
        "    plt.legend()\n",
        "    plt.xlabel(\"Training Steps\")\n",
        "    plt.ylabel(metric)\n",
        "    plt.show()\n",
        "    "
      ],
      "execution_count": 0,
      "outputs": []
    },
    {
      "metadata": {
        "colab_type": "text",
        "id": "1RupXQbCaXb3"
      },
      "cell_type": "markdown",
      "source": [
        "Load the** CIFA-10** dataset and define the transformations. You may also want to print its structure, size, as well as sample a few images to get a sense of how to design the network. "
      ]
    },
    {
      "metadata": {
        "colab_type": "code",
        "id": "mIJmLIgaZ_d3",
        "colab": {}
      },
      "cell_type": "code",
      "source": [
        "!mkdir hw10_data"
      ],
      "execution_count": 0,
      "outputs": []
    },
    {
      "metadata": {
        "colab_type": "code",
        "id": "aDBbPmPPaQuG",
        "outputId": "31011df4-3f1f-4dd9-84e4-efaf2e12af59",
        "colab": {
          "base_uri": "https://localhost:8080/",
          "height": 894
        }
      },
      "cell_type": "code",
      "source": [
        "# Download the data.\n",
        "from torchvision import datasets, transforms\n",
        "\n",
        "transformations = transforms.Compose(\n",
        "    [transforms.ToTensor(),\n",
        "     transforms.Normalize((0.5, 0.5, 0.5), (0.5, 0.5, 0.5))])\n",
        "train_set = datasets.CIFAR10(root='hw10_data/', download=True, transform=transformations)\n",
        "test_set = datasets.CIFAR10(root='hw10_data', download=True, train=False, transform=transformations)"
      ],
      "execution_count": 6,
      "outputs": [
        {
          "output_type": "stream",
          "text": [
            "  0%|          | 0/170498071 [00:00<?, ?it/s]"
          ],
          "name": "stderr"
        },
        {
          "output_type": "stream",
          "text": [
            "Downloading https://www.cs.toronto.edu/~kriz/cifar-10-python.tar.gz to hw10_data/cifar-10-python.tar.gz\n"
          ],
          "name": "stdout"
        },
        {
          "output_type": "stream",
          "text": [
            "170500096it [00:07, 23625727.05it/s]                               \n"
          ],
          "name": "stderr"
        },
        {
          "output_type": "stream",
          "text": [
            "Files already downloaded and verified\n"
          ],
          "name": "stdout"
        }
      ]
    },
    {
      "metadata": {
        "colab_type": "text",
        "id": "dfomsGyJiKz9"
      },
      "cell_type": "markdown",
      "source": [
        "Use `DataLoader` to create a loader for the training set and a loader for the testing set. You can use a `batch_size` of 8 to start, and change it if you wish."
      ]
    },
    {
      "metadata": {
        "colab_type": "code",
        "id": "Ioe04mbSiQiV",
        "colab": {}
      },
      "cell_type": "code",
      "source": [
        "from torch.utils.data import DataLoader\n",
        "\n",
        "batch_size = 8\n",
        "train_loader = torch.utils.data.DataLoader(train_set, batch_size, shuffle=True, num_workers=2)\n",
        "test_loader = torch.utils.data.DataLoader(test_set, batch_size, shuffle=True, num_workers=2)\n",
        "\n",
        "input_shape = np.array(train_set[0][0]).shape\n",
        "input_dim = input_shape[1]*input_shape[2]*input_shape[0]\n"
      ],
      "execution_count": 0,
      "outputs": []
    },
    {
      "metadata": {
        "colab_type": "code",
        "id": "fGoPdmuUOOiE",
        "colab": {}
      },
      "cell_type": "code",
      "source": [
        "training_epochs = 5"
      ],
      "execution_count": 0,
      "outputs": []
    },
    {
      "metadata": {
        "colab_type": "text",
        "id": "3T2-qkh8frqF"
      },
      "cell_type": "markdown",
      "source": [
        "## Part 1 CIFAR10 with Fully Connected Neural Netowrk (25 Points)\n",
        "\n",
        "As a warm-up, let's begin by training a two-layer fully connected neural network model on ** CIFAR-10** dataset. You may go back to check HW8 for some basics.\n",
        "\n",
        "We will give you this code to use as a baseline to compare against your CNN models."
      ]
    },
    {
      "metadata": {
        "colab_type": "code",
        "id": "Ck1CGpRycRFE",
        "outputId": "da36045b-ed74-44b3-be2c-1e7497f122af",
        "colab": {
          "base_uri": "https://localhost:8080/",
          "height": 663
        }
      },
      "cell_type": "code",
      "source": [
        "class TwoLayerModel(nn.Module):\n",
        "  def __init__(self):\n",
        "    super(TwoLayerModel, self).__init__()\n",
        "    self.net = nn.Sequential(\n",
        "      Flatten(), \n",
        "      nn.Linear(input_dim, 64), \n",
        "      nn.ReLU(), \n",
        "      nn.Linear(64, 10))\n",
        "    \n",
        "  def forward(self, x):\n",
        "    return self.net(x)\n",
        "\n",
        "model1 = TwoLayerModel().to(device)\n",
        "\n",
        "loss = nn.CrossEntropyLoss()\n",
        "optimizer = optim.RMSprop(model1.parameters(), lr=0.001, weight_decay=0.01)\n",
        "\n",
        "# Training epoch should be about 15-20 sec each on GPU.\n",
        "metrics1 = train(model1, train_loader, test_loader, loss, optimizer, None, training_epochs)"
      ],
      "execution_count": 9,
      "outputs": [
        {
          "output_type": "stream",
          "text": [
            "  Epoch 0 @ step 0: Train Loss: 0.004248, Train Accuracy: 0.000125\n",
            "  Epoch 0 @ step 1000: Train Loss: 1.951839, Train Accuracy: 0.329500\n",
            "  Epoch 0 @ step 2000: Train Loss: 1.810393, Train Accuracy: 0.357750\n",
            "  Epoch 0 @ step 3000: Train Loss: 1.761041, Train Accuracy: 0.370000\n",
            "  Epoch 0 @ step 4000: Train Loss: 1.777987, Train Accuracy: 0.364750\n",
            "  Epoch 0 @ step 5000: Train Loss: 1.780036, Train Accuracy: 0.362625\n",
            "  Epoch 0 @ step 6000: Train Loss: 1.769194, Train Accuracy: 0.371500\n",
            "Epoch 0 Test Loss: 1.728564, Test Accuracy: 0.392800, time: 17.1s\n",
            "  Epoch 1 @ step 7000: Train Loss: 1.743194, Train Accuracy: 0.376875\n",
            "  Epoch 1 @ step 8000: Train Loss: 1.760538, Train Accuracy: 0.370750\n",
            "  Epoch 1 @ step 9000: Train Loss: 1.743321, Train Accuracy: 0.377500\n",
            "  Epoch 1 @ step 10000: Train Loss: 1.740566, Train Accuracy: 0.373125\n",
            "  Epoch 1 @ step 11000: Train Loss: 1.741538, Train Accuracy: 0.382000\n",
            "  Epoch 1 @ step 12000: Train Loss: 1.744289, Train Accuracy: 0.390875\n",
            "Epoch 1 Test Loss: 1.729448, Test Accuracy: 0.371800, time: 16.4s\n",
            "  Epoch 2 @ step 13000: Train Loss: 1.741410, Train Accuracy: 0.382750\n",
            "  Epoch 2 @ step 14000: Train Loss: 1.727653, Train Accuracy: 0.382750\n",
            "  Epoch 2 @ step 15000: Train Loss: 1.729272, Train Accuracy: 0.391750\n",
            "  Epoch 2 @ step 16000: Train Loss: 1.739904, Train Accuracy: 0.376875\n",
            "  Epoch 2 @ step 17000: Train Loss: 1.761044, Train Accuracy: 0.376375\n",
            "  Epoch 2 @ step 18000: Train Loss: 1.748789, Train Accuracy: 0.377250\n",
            "Epoch 2 Test Loss: 1.731462, Test Accuracy: 0.395900, time: 16.4s\n",
            "  Epoch 3 @ step 19000: Train Loss: 1.731361, Train Accuracy: 0.384625\n",
            "  Epoch 3 @ step 20000: Train Loss: 1.735749, Train Accuracy: 0.381250\n",
            "  Epoch 3 @ step 21000: Train Loss: 1.739047, Train Accuracy: 0.378375\n",
            "  Epoch 3 @ step 22000: Train Loss: 1.748670, Train Accuracy: 0.377250\n",
            "  Epoch 3 @ step 23000: Train Loss: 1.727677, Train Accuracy: 0.387250\n",
            "  Epoch 3 @ step 24000: Train Loss: 1.723785, Train Accuracy: 0.385500\n",
            "Epoch 3 Test Loss: 1.701166, Test Accuracy: 0.399100, time: 17.3s\n",
            "  Epoch 4 @ step 25000: Train Loss: 1.741891, Train Accuracy: 0.374375\n",
            "  Epoch 4 @ step 26000: Train Loss: 1.724096, Train Accuracy: 0.382250\n",
            "  Epoch 4 @ step 27000: Train Loss: 1.747947, Train Accuracy: 0.380000\n",
            "  Epoch 4 @ step 28000: Train Loss: 1.711694, Train Accuracy: 0.388375\n",
            "  Epoch 4 @ step 29000: Train Loss: 1.717107, Train Accuracy: 0.382000\n",
            "  Epoch 4 @ step 30000: Train Loss: 1.741249, Train Accuracy: 0.378375\n",
            "  Epoch 4 @ step 31000: Train Loss: 1.743918, Train Accuracy: 0.371625\n",
            "Epoch 4 Test Loss: 1.725528, Test Accuracy: 0.380600, time: 17.0s\n",
            "Final Test Loss: 1.725528, Test Accuracy: 0.380600, Total time: 84.2s\n"
          ],
          "name": "stdout"
        }
      ]
    },
    {
      "metadata": {
        "colab_type": "text",
        "id": "qjbncuMnKpf7"
      },
      "cell_type": "markdown",
      "source": [
        "**Plot the model results**\n",
        "\n",
        "Normally we would want to use Tensorboard for looking at metrics.  However, if colab reset while we are working, we might lose our logs and therefore our metrics.  Let's just plot some graphs that will survive across colab instances."
      ]
    },
    {
      "metadata": {
        "colab_type": "code",
        "id": "CuVL9MJ_D92h",
        "outputId": "9c4654ce-901d-4b24-83aa-76b812ef0ca1",
        "colab": {
          "base_uri": "https://localhost:8080/",
          "height": 573
        }
      },
      "cell_type": "code",
      "source": [
        "plot_graphs(\"TwoLayerModel\", metrics1)"
      ],
      "execution_count": 10,
      "outputs": [
        {
          "output_type": "display_data",
          "data": {
            "image/png": "[encoded data removed]",
            "text/plain": [
              "<Figure size 432x288 with 1 Axes>"
            ]
          },
          "metadata": {
            "tags": []
          }
        },
        {
          "output_type": "display_data",
          "data": {
            "image/png": "[encoded data removed]",
            "text/plain": [
              "<Figure size 432x288 with 1 Axes>"
            ]
          },
          "metadata": {
            "tags": []
          }
        }
      ]
    },
    {
      "metadata": {
        "colab_type": "text",
        "id": "4_xi8bkkfsM7"
      },
      "cell_type": "markdown",
      "source": [
        "## Part 2 Convolutional Neural Network (CNN) (35 Points)\n",
        "\n",
        "Now, let's design a convolution neural netwrok!\n",
        "\n",
        "Build a simple CNN model, inserting 2 CNN layers in from of our 2 layer fully connect model from above:\n",
        "\n",
        "1. A convolution with\t3x3 filter, 16 output channels, stride = 1, padding=1\n",
        "2. A ReLU activation\n",
        "2. A Max-Pooling layer with 2x2 window\n",
        "3. A convolution,\t3x3 filter, 16 output channels, stride = 1, padding=1\n",
        "4. A ReLU activation\n",
        "4. Flatten layer\n",
        "5. Fully connected linear layer with output size 64\n",
        "6. ReLU\n",
        "7. Fully connected linear layer, with output size 10\n",
        "\n",
        "You will have to figure out the input sizes of the first fully connnected layer based on the previous layer sizes. Note that you also need to fill those in the report section (see report section in the notebook for details) "
      ]
    },
    {
      "metadata": {
        "colab_type": "code",
        "id": "tLXjjywngO7g",
        "outputId": "4c998b42-3bed-4c80-9f03-4f310d70b886",
        "colab": {
          "base_uri": "https://localhost:8080/",
          "height": 663
        }
      },
      "cell_type": "code",
      "source": [
        "class ConvModel(nn.Module):\n",
        "    def __init__(self):\n",
        "        super(ConvModel, self).__init__()\n",
        "        self.model = torch.nn.Sequential(\n",
        "            nn.Conv2d(3, 16, kernel_size=3, stride=1, padding=1),\n",
        "            nn.ReLU(),\n",
        "            nn.MaxPool2d(kernel_size=2, stride=2),\n",
        "            nn.Conv2d(16, 16, kernel_size=3, stride=1, padding=1),\n",
        "            nn.ReLU(),\n",
        "            Flatten(),\n",
        "            nn.Linear(16 * 16 * 16, 64),\n",
        "            nn.ReLU(),\n",
        "            nn.Linear(64, 10)\n",
        "        )\n",
        "\n",
        "    def forward(self, x):\n",
        "        return self.model(x)\n",
        "\n",
        "model2 = ConvModel().to(device)\n",
        "\n",
        "loss = nn.CrossEntropyLoss()\n",
        "optimizer = optim.RMSprop(model2.parameters(), lr=0.001, weight_decay=0.01)\n",
        "\n",
        "metrics2 = train(model2, train_loader, test_loader, loss, optimizer, None, training_epochs)"
      ],
      "execution_count": 12,
      "outputs": [
        {
          "output_type": "stream",
          "text": [
            "  Epoch 0 @ step 0: Train Loss: 0.004294, Train Accuracy: 0.000000\n",
            "  Epoch 0 @ step 1000: Train Loss: 1.888545, Train Accuracy: 0.303125\n",
            "  Epoch 0 @ step 2000: Train Loss: 1.607775, Train Accuracy: 0.414250\n",
            "  Epoch 0 @ step 3000: Train Loss: 1.498407, Train Accuracy: 0.454750\n",
            "  Epoch 0 @ step 4000: Train Loss: 1.486444, Train Accuracy: 0.462500\n",
            "  Epoch 0 @ step 5000: Train Loss: 1.438151, Train Accuracy: 0.470625\n",
            "  Epoch 0 @ step 6000: Train Loss: 1.428063, Train Accuracy: 0.479625\n",
            "Epoch 0 Test Loss: 1.422842, Test Accuracy: 0.476300, time: 25.6s\n",
            "  Epoch 1 @ step 7000: Train Loss: 1.416135, Train Accuracy: 0.494125\n",
            "  Epoch 1 @ step 8000: Train Loss: 1.402966, Train Accuracy: 0.493375\n",
            "  Epoch 1 @ step 9000: Train Loss: 1.395239, Train Accuracy: 0.494625\n",
            "  Epoch 1 @ step 10000: Train Loss: 1.354014, Train Accuracy: 0.507000\n",
            "  Epoch 1 @ step 11000: Train Loss: 1.378928, Train Accuracy: 0.502375\n",
            "  Epoch 1 @ step 12000: Train Loss: 1.352434, Train Accuracy: 0.518250\n",
            "Epoch 1 Test Loss: 1.317964, Test Accuracy: 0.522200, time: 27.2s\n",
            "  Epoch 2 @ step 13000: Train Loss: 1.355903, Train Accuracy: 0.505875\n",
            "  Epoch 2 @ step 14000: Train Loss: 1.340605, Train Accuracy: 0.516250\n",
            "  Epoch 2 @ step 15000: Train Loss: 1.341038, Train Accuracy: 0.511375\n",
            "  Epoch 2 @ step 16000: Train Loss: 1.323094, Train Accuracy: 0.530500\n",
            "  Epoch 2 @ step 17000: Train Loss: 1.311789, Train Accuracy: 0.525875\n",
            "  Epoch 2 @ step 18000: Train Loss: 1.282074, Train Accuracy: 0.535000\n",
            "Epoch 2 Test Loss: 1.232662, Test Accuracy: 0.564900, time: 27.7s\n",
            "  Epoch 3 @ step 19000: Train Loss: 1.294754, Train Accuracy: 0.542000\n",
            "  Epoch 3 @ step 20000: Train Loss: 1.286507, Train Accuracy: 0.540625\n",
            "  Epoch 3 @ step 21000: Train Loss: 1.291044, Train Accuracy: 0.532500\n",
            "  Epoch 3 @ step 22000: Train Loss: 1.286206, Train Accuracy: 0.543125\n",
            "  Epoch 3 @ step 23000: Train Loss: 1.277880, Train Accuracy: 0.545250\n",
            "  Epoch 3 @ step 24000: Train Loss: 1.266958, Train Accuracy: 0.550750\n",
            "Epoch 3 Test Loss: 1.218935, Test Accuracy: 0.565100, time: 24.3s\n",
            "  Epoch 4 @ step 25000: Train Loss: 1.261029, Train Accuracy: 0.546125\n",
            "  Epoch 4 @ step 26000: Train Loss: 1.242603, Train Accuracy: 0.557875\n",
            "  Epoch 4 @ step 27000: Train Loss: 1.275849, Train Accuracy: 0.552625\n",
            "  Epoch 4 @ step 28000: Train Loss: 1.241201, Train Accuracy: 0.558875\n",
            "  Epoch 4 @ step 29000: Train Loss: 1.227737, Train Accuracy: 0.562375\n",
            "  Epoch 4 @ step 30000: Train Loss: 1.253628, Train Accuracy: 0.551625\n",
            "  Epoch 4 @ step 31000: Train Loss: 1.240411, Train Accuracy: 0.549250\n",
            "Epoch 4 Test Loss: 1.206987, Test Accuracy: 0.567000, time: 24.2s\n",
            "Final Test Loss: 1.206987, Test Accuracy: 0.567000, Total time: 129.0s\n"
          ],
          "name": "stdout"
        }
      ]
    },
    {
      "metadata": {
        "colab_type": "code",
        "id": "8BGTJw-TPTfh",
        "outputId": "90c40ae9-16f5-4c24-9d11-40c2c9dba2bc",
        "colab": {
          "base_uri": "https://localhost:8080/",
          "height": 573
        }
      },
      "cell_type": "code",
      "source": [
        "plot_graphs(\"ConvModel\", metrics2)"
      ],
      "execution_count": 13,
      "outputs": [
        {
          "output_type": "display_data",
          "data": {
            "image/png": "[encoded data removed]",
            "text/plain": [
              "<Figure size 432x288 with 1 Axes>"
            ]
          },
          "metadata": {
            "tags": []
          }
        },
        {
          "output_type": "display_data",
          "data": {
            "image/png": "[encoded data removed]",
            "text/plain": [
              "<Figure size 432x288 with 1 Axes>"
            ]
          },
          "metadata": {
            "tags": []
          }
        }
      ]
    },
    {
      "metadata": {
        "colab_type": "text",
        "id": "oFAc6IORmzCJ"
      },
      "cell_type": "markdown",
      "source": [
        "Do you notice the improvement over the accuracy compared to that in Part 1?"
      ]
    },
    {
      "metadata": {
        "colab_type": "text",
        "id": "hXpJgsjhftDP"
      },
      "cell_type": "markdown",
      "source": [
        "## Part 3 Open Design Competition (35 Points + 10 bonus points)\n",
        "\n",
        "Try to beat the previous models by adding additional layers, changing parameters, etc.  You should add at least one layer.\n",
        "\n",
        "Possible changes include:\n",
        "*   Dropout\n",
        "*   Batch Normalization\n",
        "*   More layers\n",
        "*   Residual Connections (harder)\n",
        "*   Change layer size\n",
        "*   Pooling layers, stride\n",
        "*   Different optimizer\n",
        "*   Train for longer\n",
        "\n",
        "Once you have a model you think is great, evaluate it against our hidden test data (see hidden_loader above) and upload the results to the leader board on gradescope.  **The top 3 scorers will get a bonus 10 points.**\n",
        "\n",
        "You can steal model structures found on the internet if you want.  The only constraint is that **you must train the model from scratch**.\n"
      ]
    },
    {
      "metadata": {
        "colab_type": "code",
        "id": "QZFkuraiZOaT",
        "outputId": "4b1cfd97-40e0-47c7-bfa6-45f333bb1e61",
        "colab": {
          "base_uri": "https://localhost:8080/",
          "height": 7633
        }
      },
      "cell_type": "code",
      "source": [
        "from torch.autograd import Variable, Function\n",
        "import torchvision\n",
        "\n",
        "train_transform = torchvision.transforms.Compose([\n",
        "    torchvision.transforms.RandomCrop(32, padding=4),\n",
        "    torchvision.transforms.RandomHorizontalFlip(),\n",
        "    torchvision.transforms.ToTensor(),\n",
        "    torchvision.transforms.Normalize((0.5, 0.5, 0.5), (0.5, 0.5, 0.5)),\n",
        "])\n",
        "\n",
        "train_set = datasets.CIFAR10(root='hw10_data/', download=True, transform=train_transform)\n",
        "\n",
        "batch_size = 64\n",
        "    \n",
        "train_loader = torch.utils.data.DataLoader(train_set, batch_size, shuffle=True, num_workers=2)\n",
        "test_loader = torch.utils.data.DataLoader(test_set, batch_size, shuffle=True, num_workers=2)\n",
        "\n",
        "# See original shake shake implementation https://github.com/hysts/pytorch_shake_shake/blob/master/shake_shake.py\n",
        "\n",
        "class ShakeFunction(Function):\n",
        "    @staticmethod\n",
        "    def forward(ctx, x1, x2, alpha, beta):\n",
        "        ctx.save_for_backward(x1, x2, alpha, beta)\n",
        "\n",
        "        y = x1 * alpha + x2 * (1 - alpha)\n",
        "        return y\n",
        "\n",
        "    @staticmethod\n",
        "    def backward(ctx, grad_output):\n",
        "        x1, x2, alpha, beta = ctx.saved_tensors\n",
        "        grad_x1 = grad_x2 = grad_alpha = grad_beta = None\n",
        "\n",
        "        if ctx.needs_input_grad[0]:\n",
        "            grad_x1 = grad_output * beta\n",
        "        if ctx.needs_input_grad[1]:\n",
        "            grad_x2 = grad_output * (1 - beta)\n",
        "\n",
        "        return grad_x1, grad_x2, grad_alpha, grad_beta\n",
        "\n",
        "\n",
        "shake_function = ShakeFunction.apply\n",
        "\n",
        "\n",
        "def get_alpha_beta(batch_size, shake_config, device):\n",
        "    forward_shake, backward_shake, shake_image = shake_config\n",
        "\n",
        "    if forward_shake and not shake_image:\n",
        "        alpha = torch.rand(1)\n",
        "    elif forward_shake and shake_image:\n",
        "        alpha = torch.rand(batch_size).view(batch_size, 1, 1, 1)\n",
        "    else:\n",
        "        alpha = torch.FloatTensor([0.5])\n",
        "\n",
        "    if backward_shake and not shake_image:\n",
        "        beta = torch.rand(1)\n",
        "    elif backward_shake and shake_image:\n",
        "        beta = torch.rand(batch_size).view(batch_size, 1, 1, 1)\n",
        "    else:\n",
        "        beta = torch.FloatTensor([0.5])\n",
        "\n",
        "    alpha = alpha.to(device)\n",
        "    beta = beta.to(device)\n",
        "\n",
        "    return alpha, beta\n",
        "    \n",
        "def initialize_weights(module):\n",
        "    if isinstance(module, nn.Conv2d):\n",
        "        nn.init.kaiming_normal_(module.weight.data, mode='fan_out')\n",
        "    elif isinstance(module, nn.BatchNorm2d):\n",
        "        module.weight.data.fill_(1)\n",
        "        module.bias.data.zero_()\n",
        "    elif isinstance(module, nn.Linear):\n",
        "        module.bias.data.zero_()\n",
        "\n",
        "\n",
        "class ResidualPath(nn.Module):\n",
        "    def __init__(self, in_channels, out_channels, stride):\n",
        "        super(ResidualPath, self).__init__()\n",
        "\n",
        "        self.conv1 = nn.Conv2d(\n",
        "            in_channels,\n",
        "            out_channels,\n",
        "            kernel_size=3,\n",
        "            stride=stride,\n",
        "            padding=1,\n",
        "            bias=False,\n",
        "        )\n",
        "        self.bn1 = nn.BatchNorm2d(out_channels)\n",
        "        self.conv2 = nn.Conv2d(\n",
        "            out_channels,\n",
        "            out_channels,\n",
        "            kernel_size=3,\n",
        "            stride=1,\n",
        "            padding=1,\n",
        "            bias=False)\n",
        "        self.bn2 = nn.BatchNorm2d(out_channels)\n",
        "\n",
        "    def forward(self, x):\n",
        "        x = nn.functional.relu(x, inplace=False)\n",
        "        x = nn.functional.relu(self.bn1(self.conv1(x)), inplace=False)\n",
        "        x = self.bn2(self.conv2(x))\n",
        "        return x\n",
        "\n",
        "\n",
        "class DownsamplingShortcut(nn.Module):\n",
        "    def __init__(self, in_channels):\n",
        "        super(DownsamplingShortcut, self).__init__()\n",
        "        self.conv1 = nn.Conv2d(\n",
        "            in_channels,\n",
        "            in_channels,\n",
        "            kernel_size=1,\n",
        "            stride=1,\n",
        "            padding=0,\n",
        "            bias=False)\n",
        "        self.conv2 = nn.Conv2d(\n",
        "            in_channels,\n",
        "            in_channels,\n",
        "            kernel_size=1,\n",
        "            stride=1,\n",
        "            padding=0,\n",
        "            bias=False)\n",
        "        self.bn = nn.BatchNorm2d(in_channels * 2)\n",
        "\n",
        "    def forward(self, x):\n",
        "        x = nn.functional.relu(x, inplace=False)\n",
        "        y1 = nn.functional.avg_pool2d(x, kernel_size=1, stride=2, padding=0)\n",
        "        y1 = self.conv1(y1)\n",
        "\n",
        "        y2 = nn.functional.pad(x[:, :, 1:, 1:], (0, 1, 0, 1))\n",
        "        y2 = nn.functional.avg_pool2d(y2, kernel_size=1, stride=2, padding=0)\n",
        "        y2 = self.conv2(y2)\n",
        "\n",
        "        z = torch.cat([y1, y2], dim=1)\n",
        "        z = self.bn(z)\n",
        "\n",
        "        return z\n",
        "\n",
        "\n",
        "class BasicBlock(nn.Module):\n",
        "    def __init__(self, in_channels, out_channels, stride, shake_config):\n",
        "        super(BasicBlock, self).__init__()\n",
        "\n",
        "        self.shake_config = shake_config\n",
        "\n",
        "        self.residual_path1 = ResidualPath(in_channels, out_channels, stride)\n",
        "        self.residual_path2 = ResidualPath(in_channels, out_channels, stride)\n",
        "\n",
        "        self.shortcut = nn.Sequential()\n",
        "        if in_channels != out_channels:\n",
        "            self.shortcut.add_module('downsample', DownsamplingShortcut(in_channels))\n",
        "\n",
        "    def forward(self, x):\n",
        "        x1 = self.residual_path1(x)\n",
        "        x2 = self.residual_path2(x)\n",
        "\n",
        "        if self.training:\n",
        "            shake_config = self.shake_config\n",
        "        else:\n",
        "            shake_config = (False, False, False)\n",
        "\n",
        "        alpha, beta = get_alpha_beta(x.size(0), shake_config, x.device)\n",
        "        y = shake_function(x1, x2, alpha, beta)\n",
        "\n",
        "        return self.shortcut(x) + y\n",
        "\n",
        "\n",
        "class Network(nn.Module):\n",
        "    def __init__(self):\n",
        "        super(Network, self).__init__()\n",
        "\n",
        "        input_shape = (1, 3, 32, 32)\n",
        "        n_classes = 10\n",
        "\n",
        "        base_channels = 32\n",
        "        depth = 26\n",
        "        self.shake_config = (True, True, True)\n",
        "\n",
        "        block = BasicBlock\n",
        "        n_blocks_per_stage = (depth - 2) // 6\n",
        "        assert n_blocks_per_stage * 6 + 2 == depth\n",
        "\n",
        "        n_channels = [base_channels, base_channels * 2, base_channels * 4]\n",
        "\n",
        "        self.conv = nn.Conv2d(\n",
        "            input_shape[1],\n",
        "            n_channels[0],\n",
        "            kernel_size=3,\n",
        "            stride=1,\n",
        "            padding=1,\n",
        "            bias=False)\n",
        "        self.bn = nn.BatchNorm2d(base_channels)\n",
        "\n",
        "        self.stage1 = self._make_stage(\n",
        "            n_channels[0], n_channels[0], n_blocks_per_stage, block, stride=1)\n",
        "        self.stage2 = self._make_stage(\n",
        "            n_channels[0], n_channels[1], n_blocks_per_stage, block, stride=2)\n",
        "        self.stage3 = self._make_stage(\n",
        "            n_channels[1], n_channels[2], n_blocks_per_stage, block, stride=2)\n",
        "\n",
        "        # compute conv feature size\n",
        "        with torch.no_grad():\n",
        "            self.feature_size = self._forward_conv(\n",
        "                torch.zeros(*input_shape)).view(-1).shape[0]\n",
        "\n",
        "        self.fc = nn.Linear(self.feature_size, n_classes)\n",
        "\n",
        "        # initialize weights\n",
        "        self.apply(initialize_weights)\n",
        "\n",
        "    def _make_stage(self, in_channels, out_channels, n_blocks, block, stride):\n",
        "        stage = nn.Sequential()\n",
        "        for index in range(n_blocks):\n",
        "            block_name = 'block{}'.format(index + 1)\n",
        "            if index == 0:\n",
        "                stage.add_module(\n",
        "                    block_name,\n",
        "                    block(\n",
        "                        in_channels,\n",
        "                        out_channels,\n",
        "                        stride=stride,\n",
        "                        shake_config=self.shake_config))\n",
        "            else:\n",
        "                stage.add_module(\n",
        "                    block_name,\n",
        "                    block(\n",
        "                        out_channels,\n",
        "                        out_channels,\n",
        "                        stride=1,\n",
        "                        shake_config=self.shake_config))\n",
        "        return stage\n",
        "\n",
        "    def _forward_conv(self, x):\n",
        "        x = nn.functional.relu(self.bn(self.conv(x)), inplace=True)\n",
        "        x = self.stage1(x)\n",
        "        x = self.stage2(x)\n",
        "        x = self.stage3(x)\n",
        "        x = nn.functional.adaptive_avg_pool2d(x, output_size=1)\n",
        "        return x\n",
        "\n",
        "    def forward(self, x):\n",
        "        x = self._forward_conv(x)\n",
        "        x = x.view(x.size(0), -1)\n",
        "        x = self.fc(x)\n",
        "        return x\n",
        "\n",
        "epochs = 250\n",
        "                                                  \n",
        "model3 = Network()\n",
        "model3.cuda()\n",
        "optimizer = torch.optim.SGD(\n",
        "        model3.parameters(),\n",
        "        lr=0.1,\n",
        "        momentum=0.9,\n",
        "        weight_decay=1e-4,\n",
        "        nesterov=True)\n",
        "scheduler = torch.optim.lr_scheduler.CosineAnnealingLR(optimizer, epochs * len(train_loader))\n",
        "metrics3 = train(model3, train_loader, test_loader, loss, optimizer, scheduler, epochs)"
      ],
      "execution_count": 14,
      "outputs": [
        {
          "output_type": "stream",
          "text": [
            "Files already downloaded and verified\n",
            "  Epoch 0 @ step 0: Train Loss: 0.004311, Train Accuracy: 0.000078\n",
            "Epoch 0 Test Loss: 1.441824, Test Accuracy: 0.476811, time: 82.0s\n",
            "  Epoch 1 @ step 1000: Train Loss: 1.682036, Train Accuracy: 0.385875\n",
            "Epoch 1 Test Loss: 1.189991, Test Accuracy: 0.576632, time: 82.4s\n",
            "  Epoch 2 @ step 2000: Train Loss: 1.284718, Train Accuracy: 0.544859\n",
            "Epoch 2 Test Loss: 0.966782, Test Accuracy: 0.669486, time: 82.6s\n",
            "  Epoch 3 @ step 3000: Train Loss: 1.040655, Train Accuracy: 0.637484\n",
            "Epoch 3 Test Loss: 0.876645, Test Accuracy: 0.707106, time: 82.7s\n",
            "Epoch 4 Test Loss: 0.747997, Test Accuracy: 0.753185, time: 82.5s\n",
            "  Epoch 5 @ step 4000: Train Loss: 0.881276, Train Accuracy: 0.698922\n",
            "Epoch 5 Test Loss: 0.645883, Test Accuracy: 0.786624, time: 82.5s\n",
            "  Epoch 6 @ step 5000: Train Loss: 0.793275, Train Accuracy: 0.730188\n",
            "Epoch 6 Test Loss: 0.731357, Test Accuracy: 0.768213, time: 82.5s\n",
            "  Epoch 7 @ step 6000: Train Loss: 0.734671, Train Accuracy: 0.749969\n",
            "Epoch 7 Test Loss: 0.551750, Test Accuracy: 0.815386, time: 82.4s\n",
            "  Epoch 8 @ step 7000: Train Loss: 0.687784, Train Accuracy: 0.765813\n",
            "Epoch 8 Test Loss: 0.581594, Test Accuracy: 0.807822, time: 82.5s\n",
            "Epoch 9 Test Loss: 0.638131, Test Accuracy: 0.796178, time: 82.7s\n",
            "  Epoch 10 @ step 8000: Train Loss: 0.664238, Train Accuracy: 0.774141\n",
            "Epoch 10 Test Loss: 0.570077, Test Accuracy: 0.814092, time: 82.6s\n",
            "  Epoch 11 @ step 9000: Train Loss: 0.637041, Train Accuracy: 0.785047\n",
            "Epoch 11 Test Loss: 0.551890, Test Accuracy: 0.812301, time: 82.5s\n",
            "  Epoch 12 @ step 10000: Train Loss: 0.606114, Train Accuracy: 0.795250\n",
            "Epoch 12 Test Loss: 0.507175, Test Accuracy: 0.833300, time: 82.4s\n",
            "Epoch 13 Test Loss: 0.465210, Test Accuracy: 0.843750, time: 82.4s\n",
            "  Epoch 14 @ step 11000: Train Loss: 0.588193, Train Accuracy: 0.801797\n",
            "Epoch 14 Test Loss: 0.499518, Test Accuracy: 0.836684, time: 82.5s\n",
            "  Epoch 15 @ step 12000: Train Loss: 0.568041, Train Accuracy: 0.809938\n",
            "Epoch 15 Test Loss: 0.515279, Test Accuracy: 0.840864, time: 82.5s\n",
            "  Epoch 16 @ step 13000: Train Loss: 0.560924, Train Accuracy: 0.810359\n",
            "Epoch 16 Test Loss: 0.414595, Test Accuracy: 0.862162, time: 82.4s\n",
            "  Epoch 17 @ step 14000: Train Loss: 0.542973, Train Accuracy: 0.817516\n",
            "Epoch 17 Test Loss: 0.488459, Test Accuracy: 0.844148, time: 82.5s\n",
            "Epoch 18 Test Loss: 0.496924, Test Accuracy: 0.841461, time: 82.5s\n",
            "  Epoch 19 @ step 15000: Train Loss: 0.531126, Train Accuracy: 0.820031\n",
            "Epoch 19 Test Loss: 0.488911, Test Accuracy: 0.839769, time: 82.4s\n",
            "  Epoch 20 @ step 16000: Train Loss: 0.519969, Train Accuracy: 0.823656\n",
            "Epoch 20 Test Loss: 0.437945, Test Accuracy: 0.861365, time: 82.5s\n",
            "  Epoch 21 @ step 17000: Train Loss: 0.522525, Train Accuracy: 0.822453\n",
            "Epoch 21 Test Loss: 0.471618, Test Accuracy: 0.845940, time: 82.6s\n",
            "Epoch 22 Test Loss: 0.451293, Test Accuracy: 0.861664, time: 82.5s\n",
            "  Epoch 23 @ step 18000: Train Loss: 0.520513, Train Accuracy: 0.825266\n",
            "Epoch 23 Test Loss: 0.442904, Test Accuracy: 0.858479, time: 82.6s\n",
            "  Epoch 24 @ step 19000: Train Loss: 0.512622, Train Accuracy: 0.825594\n",
            "Epoch 24 Test Loss: 0.389563, Test Accuracy: 0.872412, time: 82.3s\n",
            "  Epoch 25 @ step 20000: Train Loss: 0.505087, Train Accuracy: 0.829766\n",
            "Epoch 25 Test Loss: 0.454630, Test Accuracy: 0.854896, time: 82.4s\n",
            "  Epoch 26 @ step 21000: Train Loss: 0.491010, Train Accuracy: 0.834094\n",
            "Epoch 26 Test Loss: 0.467539, Test Accuracy: 0.845044, time: 82.6s\n",
            "Epoch 27 Test Loss: 0.370242, Test Accuracy: 0.877090, time: 82.3s\n",
            "  Epoch 28 @ step 22000: Train Loss: 0.489598, Train Accuracy: 0.835047\n",
            "Epoch 28 Test Loss: 0.510515, Test Accuracy: 0.840366, time: 82.5s\n",
            "  Epoch 29 @ step 23000: Train Loss: 0.479647, Train Accuracy: 0.839781\n",
            "Epoch 29 Test Loss: 0.410685, Test Accuracy: 0.861963, time: 82.4s\n",
            "  Epoch 30 @ step 24000: Train Loss: 0.467888, Train Accuracy: 0.843375\n",
            "Epoch 30 Test Loss: 0.363627, Test Accuracy: 0.876493, time: 82.3s\n",
            "  Epoch 31 @ step 25000: Train Loss: 0.467509, Train Accuracy: 0.842219\n",
            "Epoch 31 Test Loss: 0.424696, Test Accuracy: 0.863356, time: 82.3s\n",
            "Epoch 32 Test Loss: 0.380051, Test Accuracy: 0.872014, time: 82.3s\n",
            "  Epoch 33 @ step 26000: Train Loss: 0.461667, Train Accuracy: 0.844813\n",
            "Epoch 33 Test Loss: 0.542264, Test Accuracy: 0.836783, time: 82.2s\n",
            "  Epoch 34 @ step 27000: Train Loss: 0.456707, Train Accuracy: 0.847563\n",
            "Epoch 34 Test Loss: 0.416713, Test Accuracy: 0.861465, time: 82.6s\n",
            "  Epoch 35 @ step 28000: Train Loss: 0.450831, Train Accuracy: 0.848766\n",
            "Epoch 35 Test Loss: 0.441483, Test Accuracy: 0.855593, time: 82.4s\n",
            "Epoch 36 Test Loss: 0.380845, Test Accuracy: 0.881170, time: 82.3s\n",
            "  Epoch 37 @ step 29000: Train Loss: 0.447818, Train Accuracy: 0.849234\n",
            "Epoch 37 Test Loss: 0.381613, Test Accuracy: 0.876493, time: 82.5s\n",
            "  Epoch 38 @ step 30000: Train Loss: 0.457069, Train Accuracy: 0.846594\n",
            "Epoch 38 Test Loss: 0.355956, Test Accuracy: 0.883758, time: 82.3s\n",
            "  Epoch 39 @ step 31000: Train Loss: 0.447947, Train Accuracy: 0.850141\n",
            "Epoch 39 Test Loss: 0.390081, Test Accuracy: 0.872213, time: 82.3s\n",
            "  Epoch 40 @ step 32000: Train Loss: 0.436725, Train Accuracy: 0.852125\n",
            "Epoch 40 Test Loss: 0.377595, Test Accuracy: 0.875697, time: 82.2s\n",
            "Epoch 41 Test Loss: 0.368943, Test Accuracy: 0.880275, time: 82.6s\n",
            "  Epoch 42 @ step 33000: Train Loss: 0.431651, Train Accuracy: 0.854719\n",
            "Epoch 42 Test Loss: 0.367990, Test Accuracy: 0.877787, time: 82.6s\n",
            "  Epoch 43 @ step 34000: Train Loss: 0.427443, Train Accuracy: 0.856172\n",
            "Epoch 43 Test Loss: 0.485017, Test Accuracy: 0.848029, time: 82.5s\n",
            "  Epoch 44 @ step 35000: Train Loss: 0.426945, Train Accuracy: 0.857016\n",
            "Epoch 44 Test Loss: 0.329970, Test Accuracy: 0.893710, time: 82.3s\n",
            "Epoch 45 Test Loss: 0.405146, Test Accuracy: 0.871119, time: 82.4s\n",
            "  Epoch 46 @ step 36000: Train Loss: 0.424483, Train Accuracy: 0.857766\n",
            "Epoch 46 Test Loss: 0.389203, Test Accuracy: 0.882265, time: 82.4s\n",
            "  Epoch 47 @ step 37000: Train Loss: 0.414761, Train Accuracy: 0.860203\n",
            "Epoch 47 Test Loss: 0.355251, Test Accuracy: 0.884156, time: 82.4s\n",
            "  Epoch 48 @ step 38000: Train Loss: 0.408404, Train Accuracy: 0.862688\n",
            "Epoch 48 Test Loss: 0.357583, Test Accuracy: 0.885052, time: 82.4s\n",
            "  Epoch 49 @ step 39000: Train Loss: 0.410914, Train Accuracy: 0.862328\n",
            "Epoch 49 Test Loss: 0.358792, Test Accuracy: 0.887938, time: 82.4s\n",
            "Epoch 50 Test Loss: 0.349732, Test Accuracy: 0.885947, time: 82.4s\n",
            "  Epoch 51 @ step 40000: Train Loss: 0.415813, Train Accuracy: 0.859125\n",
            "Epoch 51 Test Loss: 0.384254, Test Accuracy: 0.878682, time: 82.4s\n",
            "  Epoch 52 @ step 41000: Train Loss: 0.402231, Train Accuracy: 0.865078\n",
            "Epoch 52 Test Loss: 0.399714, Test Accuracy: 0.871119, time: 82.4s\n",
            "  Epoch 53 @ step 42000: Train Loss: 0.405668, Train Accuracy: 0.863922\n",
            "Epoch 53 Test Loss: 0.326915, Test Accuracy: 0.896795, time: 82.4s\n",
            "  Epoch 54 @ step 43000: Train Loss: 0.405304, Train Accuracy: 0.863500\n",
            "Epoch 54 Test Loss: 0.356210, Test Accuracy: 0.887042, time: 82.6s\n",
            "Epoch 55 Test Loss: 0.359344, Test Accuracy: 0.889033, time: 82.3s\n",
            "  Epoch 56 @ step 44000: Train Loss: 0.391047, Train Accuracy: 0.866594\n",
            "Epoch 56 Test Loss: 0.379081, Test Accuracy: 0.883061, time: 82.6s\n",
            "  Epoch 57 @ step 45000: Train Loss: 0.392818, Train Accuracy: 0.868219\n",
            "Epoch 57 Test Loss: 0.328274, Test Accuracy: 0.900080, time: 82.4s\n",
            "  Epoch 58 @ step 46000: Train Loss: 0.393667, Train Accuracy: 0.867172\n",
            "Epoch 58 Test Loss: 0.381375, Test Accuracy: 0.879578, time: 82.4s\n",
            "Epoch 59 Test Loss: 0.348690, Test Accuracy: 0.889132, time: 82.3s\n",
            "  Epoch 60 @ step 47000: Train Loss: 0.386358, Train Accuracy: 0.868969\n",
            "Epoch 60 Test Loss: 0.300328, Test Accuracy: 0.902369, time: 82.5s\n",
            "  Epoch 61 @ step 48000: Train Loss: 0.384491, Train Accuracy: 0.871938\n",
            "Epoch 61 Test Loss: 0.393039, Test Accuracy: 0.878483, time: 82.3s\n",
            "  Epoch 62 @ step 49000: Train Loss: 0.382817, Train Accuracy: 0.871844\n",
            "Epoch 62 Test Loss: 0.343881, Test Accuracy: 0.890924, time: 82.3s\n",
            "  Epoch 63 @ step 50000: Train Loss: 0.380899, Train Accuracy: 0.871734\n",
            "Epoch 63 Test Loss: 0.377709, Test Accuracy: 0.878384, time: 82.5s\n",
            "Epoch 64 Test Loss: 0.440706, Test Accuracy: 0.862261, time: 82.3s\n",
            "  Epoch 65 @ step 51000: Train Loss: 0.379878, Train Accuracy: 0.872078\n",
            "Epoch 65 Test Loss: 0.313397, Test Accuracy: 0.898487, time: 82.3s\n",
            "  Epoch 66 @ step 52000: Train Loss: 0.373441, Train Accuracy: 0.874703\n",
            "Epoch 66 Test Loss: 0.327554, Test Accuracy: 0.893113, time: 82.3s\n",
            "  Epoch 67 @ step 53000: Train Loss: 0.374054, Train Accuracy: 0.874500\n",
            "Epoch 67 Test Loss: 0.338077, Test Accuracy: 0.891123, time: 82.6s\n",
            "Epoch 68 Test Loss: 0.342615, Test Accuracy: 0.891521, time: 82.2s\n",
            "  Epoch 69 @ step 54000: Train Loss: 0.382785, Train Accuracy: 0.871172\n",
            "Epoch 69 Test Loss: 0.386104, Test Accuracy: 0.879678, time: 82.2s\n",
            "  Epoch 70 @ step 55000: Train Loss: 0.376715, Train Accuracy: 0.872234\n",
            "Epoch 70 Test Loss: 0.351111, Test Accuracy: 0.889132, time: 82.2s\n",
            "  Epoch 71 @ step 56000: Train Loss: 0.379647, Train Accuracy: 0.872813\n",
            "Epoch 71 Test Loss: 0.334961, Test Accuracy: 0.890326, time: 82.2s\n",
            "  Epoch 72 @ step 57000: Train Loss: 0.369028, Train Accuracy: 0.875578\n",
            "Epoch 72 Test Loss: 0.335204, Test Accuracy: 0.894506, time: 82.2s\n",
            "Epoch 73 Test Loss: 0.351188, Test Accuracy: 0.891819, time: 82.2s\n",
            "  Epoch 74 @ step 58000: Train Loss: 0.360896, Train Accuracy: 0.878484\n",
            "Epoch 74 Test Loss: 0.293617, Test Accuracy: 0.904260, time: 82.2s\n",
            "  Epoch 75 @ step 59000: Train Loss: 0.369108, Train Accuracy: 0.876391\n",
            "Epoch 75 Test Loss: 0.341846, Test Accuracy: 0.891919, time: 82.3s\n",
            "  Epoch 76 @ step 60000: Train Loss: 0.360140, Train Accuracy: 0.879031\n",
            "Epoch 76 Test Loss: 0.345258, Test Accuracy: 0.889729, time: 82.2s\n",
            "Epoch 77 Test Loss: 0.301460, Test Accuracy: 0.897492, time: 82.1s\n",
            "  Epoch 78 @ step 61000: Train Loss: 0.363651, Train Accuracy: 0.876938\n",
            "Epoch 78 Test Loss: 0.357571, Test Accuracy: 0.887042, time: 82.4s\n",
            "  Epoch 79 @ step 62000: Train Loss: 0.352488, Train Accuracy: 0.881875\n",
            "Epoch 79 Test Loss: 0.334762, Test Accuracy: 0.895004, time: 82.2s\n",
            "  Epoch 80 @ step 63000: Train Loss: 0.353902, Train Accuracy: 0.880531\n",
            "Epoch 80 Test Loss: 0.303134, Test Accuracy: 0.903961, time: 82.3s\n",
            "  Epoch 81 @ step 64000: Train Loss: 0.350202, Train Accuracy: 0.881344\n",
            "Epoch 81 Test Loss: 0.347759, Test Accuracy: 0.889232, time: 82.2s\n",
            "Epoch 82 Test Loss: 0.311819, Test Accuracy: 0.900279, time: 82.3s\n",
            "  Epoch 83 @ step 65000: Train Loss: 0.346408, Train Accuracy: 0.881953\n",
            "Epoch 83 Test Loss: 0.329811, Test Accuracy: 0.895701, time: 82.2s\n",
            "  Epoch 84 @ step 66000: Train Loss: 0.341688, Train Accuracy: 0.884594\n",
            "Epoch 84 Test Loss: 0.291659, Test Accuracy: 0.907444, time: 82.2s\n",
            "  Epoch 85 @ step 67000: Train Loss: 0.339949, Train Accuracy: 0.886250\n",
            "Epoch 85 Test Loss: 0.294652, Test Accuracy: 0.901274, time: 82.2s\n",
            "  Epoch 86 @ step 68000: Train Loss: 0.343617, Train Accuracy: 0.884438\n",
            "Epoch 86 Test Loss: 0.290568, Test Accuracy: 0.903264, time: 82.3s\n",
            "Epoch 87 Test Loss: 0.365598, Test Accuracy: 0.885251, time: 82.1s\n",
            "  Epoch 88 @ step 69000: Train Loss: 0.339772, Train Accuracy: 0.885391\n",
            "Epoch 88 Test Loss: 0.322678, Test Accuracy: 0.896994, time: 82.1s\n",
            "  Epoch 89 @ step 70000: Train Loss: 0.333120, Train Accuracy: 0.886578\n",
            "Epoch 89 Test Loss: 0.325528, Test Accuracy: 0.895402, time: 82.2s\n",
            "  Epoch 90 @ step 71000: Train Loss: 0.332977, Train Accuracy: 0.887406\n",
            "Epoch 90 Test Loss: 0.345133, Test Accuracy: 0.895900, time: 82.1s\n",
            "Epoch 91 Test Loss: 0.295104, Test Accuracy: 0.906549, time: 82.2s\n",
            "  Epoch 92 @ step 72000: Train Loss: 0.326934, Train Accuracy: 0.889016\n",
            "Epoch 92 Test Loss: 0.277344, Test Accuracy: 0.905553, time: 82.3s\n",
            "  Epoch 93 @ step 73000: Train Loss: 0.323035, Train Accuracy: 0.891188\n",
            "Epoch 93 Test Loss: 0.277742, Test Accuracy: 0.908141, time: 82.3s\n",
            "  Epoch 94 @ step 74000: Train Loss: 0.320461, Train Accuracy: 0.891563\n",
            "Epoch 94 Test Loss: 0.375604, Test Accuracy: 0.884156, time: 82.1s\n",
            "  Epoch 95 @ step 75000: Train Loss: 0.319946, Train Accuracy: 0.891141\n",
            "Epoch 95 Test Loss: 0.293120, Test Accuracy: 0.904658, time: 82.4s\n",
            "Epoch 96 Test Loss: 0.297326, Test Accuracy: 0.903364, time: 82.2s\n",
            "  Epoch 97 @ step 76000: Train Loss: 0.311663, Train Accuracy: 0.894547\n",
            "Epoch 97 Test Loss: 0.361448, Test Accuracy: 0.889530, time: 82.3s\n",
            "  Epoch 98 @ step 77000: Train Loss: 0.314305, Train Accuracy: 0.892750\n",
            "Epoch 98 Test Loss: 0.314792, Test Accuracy: 0.900677, time: 82.2s\n",
            "  Epoch 99 @ step 78000: Train Loss: 0.319395, Train Accuracy: 0.891234\n",
            "Epoch 99 Test Loss: 0.273126, Test Accuracy: 0.912022, time: 82.2s\n",
            "Epoch 100 Test Loss: 0.276727, Test Accuracy: 0.910928, time: 82.3s\n",
            "  Epoch 101 @ step 79000: Train Loss: 0.311452, Train Accuracy: 0.894031\n",
            "Epoch 101 Test Loss: 0.307119, Test Accuracy: 0.904956, time: 82.1s\n",
            "  Epoch 102 @ step 80000: Train Loss: 0.311896, Train Accuracy: 0.894766\n",
            "Epoch 102 Test Loss: 0.316507, Test Accuracy: 0.901871, time: 82.4s\n",
            "  Epoch 103 @ step 81000: Train Loss: 0.308783, Train Accuracy: 0.895906\n",
            "Epoch 103 Test Loss: 0.274623, Test Accuracy: 0.908639, time: 82.4s\n",
            "  Epoch 104 @ step 82000: Train Loss: 0.301779, Train Accuracy: 0.897500\n",
            "Epoch 104 Test Loss: 0.280238, Test Accuracy: 0.913515, time: 82.2s\n",
            "Epoch 105 Test Loss: 0.270254, Test Accuracy: 0.911525, time: 82.5s\n",
            "  Epoch 106 @ step 83000: Train Loss: 0.301499, Train Accuracy: 0.897906\n",
            "Epoch 106 Test Loss: 0.294114, Test Accuracy: 0.906350, time: 82.5s\n",
            "  Epoch 107 @ step 84000: Train Loss: 0.297439, Train Accuracy: 0.899016\n",
            "Epoch 107 Test Loss: 0.278303, Test Accuracy: 0.911724, time: 82.6s\n",
            "  Epoch 108 @ step 85000: Train Loss: 0.298101, Train Accuracy: 0.898813\n",
            "Epoch 108 Test Loss: 0.274540, Test Accuracy: 0.910629, time: 82.7s\n",
            "  Epoch 109 @ step 86000: Train Loss: 0.292419, Train Accuracy: 0.900938\n",
            "Epoch 109 Test Loss: 0.243319, Test Accuracy: 0.922373, time: 82.5s\n",
            "Epoch 110 Test Loss: 0.279716, Test Accuracy: 0.913316, time: 82.4s\n",
            "  Epoch 111 @ step 87000: Train Loss: 0.284020, Train Accuracy: 0.904063\n",
            "Epoch 111 Test Loss: 0.301465, Test Accuracy: 0.907146, time: 82.5s\n",
            "  Epoch 112 @ step 88000: Train Loss: 0.289610, Train Accuracy: 0.900781\n",
            "Epoch 112 Test Loss: 0.313016, Test Accuracy: 0.903861, time: 82.5s\n",
            "  Epoch 113 @ step 89000: Train Loss: 0.283894, Train Accuracy: 0.903781\n",
            "Epoch 113 Test Loss: 0.278241, Test Accuracy: 0.909634, time: 82.6s\n",
            "Epoch 114 Test Loss: 0.376850, Test Accuracy: 0.880872, time: 82.6s\n",
            "  Epoch 115 @ step 90000: Train Loss: 0.287513, Train Accuracy: 0.902359\n",
            "Epoch 115 Test Loss: 0.286221, Test Accuracy: 0.910231, time: 82.6s\n",
            "  Epoch 116 @ step 91000: Train Loss: 0.280575, Train Accuracy: 0.905266\n",
            "Epoch 116 Test Loss: 0.337211, Test Accuracy: 0.899980, time: 82.8s\n",
            "  Epoch 117 @ step 92000: Train Loss: 0.281089, Train Accuracy: 0.903141\n",
            "Epoch 117 Test Loss: 0.268075, Test Accuracy: 0.914411, time: 82.4s\n",
            "  Epoch 118 @ step 93000: Train Loss: 0.273693, Train Accuracy: 0.906266\n",
            "Epoch 118 Test Loss: 0.265307, Test Accuracy: 0.918690, time: 82.5s\n",
            "Epoch 119 Test Loss: 0.295622, Test Accuracy: 0.910629, time: 82.5s\n",
            "  Epoch 120 @ step 94000: Train Loss: 0.265365, Train Accuracy: 0.909359\n",
            "Epoch 120 Test Loss: 0.276741, Test Accuracy: 0.918093, time: 82.5s\n",
            "  Epoch 121 @ step 95000: Train Loss: 0.269914, Train Accuracy: 0.907453\n",
            "Epoch 121 Test Loss: 0.296910, Test Accuracy: 0.908240, time: 82.5s\n",
            "  Epoch 122 @ step 96000: Train Loss: 0.267814, Train Accuracy: 0.908750\n",
            "Epoch 122 Test Loss: 0.254126, Test Accuracy: 0.921676, time: 82.5s\n",
            "Epoch 123 Test Loss: 0.249342, Test Accuracy: 0.921178, time: 82.5s\n",
            "  Epoch 124 @ step 97000: Train Loss: 0.259345, Train Accuracy: 0.912016\n",
            "Epoch 124 Test Loss: 0.278865, Test Accuracy: 0.912918, time: 82.4s\n",
            "  Epoch 125 @ step 98000: Train Loss: 0.261768, Train Accuracy: 0.911250\n",
            "Epoch 125 Test Loss: 0.286673, Test Accuracy: 0.916799, time: 82.4s\n",
            "  Epoch 126 @ step 99000: Train Loss: 0.261348, Train Accuracy: 0.911031\n",
            "Epoch 126 Test Loss: 0.288480, Test Accuracy: 0.907743, time: 82.5s\n",
            "  Epoch 127 @ step 100000: Train Loss: 0.265438, Train Accuracy: 0.910063\n",
            "Epoch 127 Test Loss: 0.261743, Test Accuracy: 0.918292, time: 82.4s\n",
            "Epoch 128 Test Loss: 0.271218, Test Accuracy: 0.915605, time: 82.3s\n",
            "  Epoch 129 @ step 101000: Train Loss: 0.245255, Train Accuracy: 0.915531\n",
            "Epoch 129 Test Loss: 0.266902, Test Accuracy: 0.919586, time: 82.3s\n",
            "  Epoch 130 @ step 102000: Train Loss: 0.238878, Train Accuracy: 0.918734\n",
            "Epoch 130 Test Loss: 0.260615, Test Accuracy: 0.918690, time: 82.6s\n",
            "  Epoch 131 @ step 103000: Train Loss: 0.243536, Train Accuracy: 0.917547\n",
            "Epoch 131 Test Loss: 0.256435, Test Accuracy: 0.922671, time: 82.6s\n",
            "  Epoch 132 @ step 104000: Train Loss: 0.235509, Train Accuracy: 0.920906\n",
            "Epoch 132 Test Loss: 0.260332, Test Accuracy: 0.919785, time: 82.6s\n",
            "Epoch 133 Test Loss: 0.312922, Test Accuracy: 0.904459, time: 82.4s\n",
            "  Epoch 134 @ step 105000: Train Loss: 0.232667, Train Accuracy: 0.920234\n",
            "Epoch 134 Test Loss: 0.249229, Test Accuracy: 0.922970, time: 82.6s\n",
            "  Epoch 135 @ step 106000: Train Loss: 0.235712, Train Accuracy: 0.919063\n",
            "Epoch 135 Test Loss: 0.259393, Test Accuracy: 0.919686, time: 82.4s\n",
            "  Epoch 136 @ step 107000: Train Loss: 0.232075, Train Accuracy: 0.920438\n",
            "Epoch 136 Test Loss: 0.269514, Test Accuracy: 0.916899, time: 82.5s\n",
            "Epoch 137 Test Loss: 0.221894, Test Accuracy: 0.927747, time: 82.5s\n",
            "  Epoch 138 @ step 108000: Train Loss: 0.223127, Train Accuracy: 0.923797\n",
            "Epoch 138 Test Loss: 0.281676, Test Accuracy: 0.914709, time: 82.4s\n",
            "  Epoch 139 @ step 109000: Train Loss: 0.227716, Train Accuracy: 0.921875\n",
            "Epoch 139 Test Loss: 0.229027, Test Accuracy: 0.926652, time: 82.4s\n",
            "  Epoch 140 @ step 110000: Train Loss: 0.227642, Train Accuracy: 0.921641\n",
            "Epoch 140 Test Loss: 0.262877, Test Accuracy: 0.913814, time: 82.4s\n",
            "  Epoch 141 @ step 111000: Train Loss: 0.220821, Train Accuracy: 0.924734\n",
            "Epoch 141 Test Loss: 0.242098, Test Accuracy: 0.924463, time: 82.6s\n",
            "Epoch 142 Test Loss: 0.234029, Test Accuracy: 0.927747, time: 82.5s\n",
            "  Epoch 143 @ step 112000: Train Loss: 0.219704, Train Accuracy: 0.924391\n",
            "Epoch 143 Test Loss: 0.231011, Test Accuracy: 0.929936, time: 82.4s\n",
            "  Epoch 144 @ step 113000: Train Loss: 0.209031, Train Accuracy: 0.928469\n",
            "Epoch 144 Test Loss: 0.266926, Test Accuracy: 0.918193, time: 82.4s\n",
            "  Epoch 145 @ step 114000: Train Loss: 0.215960, Train Accuracy: 0.925938\n",
            "Epoch 145 Test Loss: 0.230569, Test Accuracy: 0.927050, time: 82.5s\n",
            "Epoch 146 Test Loss: 0.223079, Test Accuracy: 0.928941, time: 82.5s\n",
            "  Epoch 147 @ step 115000: Train Loss: 0.210533, Train Accuracy: 0.927734\n",
            "Epoch 147 Test Loss: 0.226137, Test Accuracy: 0.927946, time: 82.5s\n",
            "  Epoch 148 @ step 116000: Train Loss: 0.203738, Train Accuracy: 0.929859\n",
            "Epoch 148 Test Loss: 0.247555, Test Accuracy: 0.923766, time: 82.3s\n",
            "  Epoch 149 @ step 117000: Train Loss: 0.200108, Train Accuracy: 0.931766\n",
            "Epoch 149 Test Loss: 0.252660, Test Accuracy: 0.920780, time: 82.4s\n",
            "  Epoch 150 @ step 118000: Train Loss: 0.190479, Train Accuracy: 0.934844\n",
            "Epoch 150 Test Loss: 0.241058, Test Accuracy: 0.929140, time: 82.4s\n",
            "Epoch 151 Test Loss: 0.210811, Test Accuracy: 0.935609, time: 82.3s\n",
            "  Epoch 152 @ step 119000: Train Loss: 0.188063, Train Accuracy: 0.934891\n",
            "Epoch 152 Test Loss: 0.218535, Test Accuracy: 0.930434, time: 82.3s\n",
            "  Epoch 153 @ step 120000: Train Loss: 0.184518, Train Accuracy: 0.935625\n",
            "Epoch 153 Test Loss: 0.220947, Test Accuracy: 0.934912, time: 82.4s\n",
            "  Epoch 154 @ step 121000: Train Loss: 0.182877, Train Accuracy: 0.936125\n",
            "Epoch 154 Test Loss: 0.240700, Test Accuracy: 0.929140, time: 82.4s\n",
            "Epoch 155 Test Loss: 0.209577, Test Accuracy: 0.935510, time: 82.4s\n",
            "  Epoch 156 @ step 122000: Train Loss: 0.184163, Train Accuracy: 0.936625\n",
            "Epoch 156 Test Loss: 0.228247, Test Accuracy: 0.930633, time: 82.5s\n",
            "  Epoch 157 @ step 123000: Train Loss: 0.173723, Train Accuracy: 0.940172\n",
            "Epoch 157 Test Loss: 0.251250, Test Accuracy: 0.927548, time: 82.4s\n",
            "  Epoch 158 @ step 124000: Train Loss: 0.183618, Train Accuracy: 0.936406\n",
            "Epoch 158 Test Loss: 0.214624, Test Accuracy: 0.936107, time: 82.2s\n",
            "  Epoch 159 @ step 125000: Train Loss: 0.177760, Train Accuracy: 0.938156\n",
            "Epoch 159 Test Loss: 0.228520, Test Accuracy: 0.932424, time: 82.2s\n",
            "Epoch 160 Test Loss: 0.216657, Test Accuracy: 0.934713, time: 82.5s\n",
            "  Epoch 161 @ step 126000: Train Loss: 0.175267, Train Accuracy: 0.939609\n",
            "Epoch 161 Test Loss: 0.208311, Test Accuracy: 0.935410, time: 82.3s\n",
            "  Epoch 162 @ step 127000: Train Loss: 0.171921, Train Accuracy: 0.940313\n",
            "Epoch 162 Test Loss: 0.228047, Test Accuracy: 0.933420, time: 82.1s\n",
            "  Epoch 163 @ step 128000: Train Loss: 0.164490, Train Accuracy: 0.943484\n",
            "Epoch 163 Test Loss: 0.210268, Test Accuracy: 0.934017, time: 82.2s\n",
            "  Epoch 164 @ step 129000: Train Loss: 0.161925, Train Accuracy: 0.944234\n",
            "Epoch 164 Test Loss: 0.235064, Test Accuracy: 0.931429, time: 82.6s\n",
            "Epoch 165 Test Loss: 0.210392, Test Accuracy: 0.936505, time: 82.3s\n",
            "  Epoch 166 @ step 130000: Train Loss: 0.153579, Train Accuracy: 0.946516\n",
            "Epoch 166 Test Loss: 0.230786, Test Accuracy: 0.929737, time: 82.2s\n",
            "  Epoch 167 @ step 131000: Train Loss: 0.150877, Train Accuracy: 0.947703\n",
            "Epoch 167 Test Loss: 0.237375, Test Accuracy: 0.931230, time: 82.6s\n",
            "  Epoch 168 @ step 132000: Train Loss: 0.144773, Train Accuracy: 0.949969\n",
            "Epoch 168 Test Loss: 0.218390, Test Accuracy: 0.935410, time: 82.3s\n",
            "Epoch 169 Test Loss: 0.220021, Test Accuracy: 0.934415, time: 82.4s\n",
            "  Epoch 170 @ step 133000: Train Loss: 0.147003, Train Accuracy: 0.949547\n",
            "Epoch 170 Test Loss: 0.207820, Test Accuracy: 0.937201, time: 82.5s\n",
            "  Epoch 171 @ step 134000: Train Loss: 0.141350, Train Accuracy: 0.951563\n",
            "Epoch 171 Test Loss: 0.218259, Test Accuracy: 0.935510, time: 82.3s\n",
            "  Epoch 172 @ step 135000: Train Loss: 0.137605, Train Accuracy: 0.952578\n",
            "Epoch 172 Test Loss: 0.203494, Test Accuracy: 0.939789, time: 82.3s\n",
            "  Epoch 173 @ step 136000: Train Loss: 0.134510, Train Accuracy: 0.952906\n",
            "Epoch 173 Test Loss: 0.214530, Test Accuracy: 0.934415, time: 82.3s\n",
            "Epoch 174 Test Loss: 0.191265, Test Accuracy: 0.940486, time: 82.3s\n",
            "  Epoch 175 @ step 137000: Train Loss: 0.129278, Train Accuracy: 0.955766\n",
            "Epoch 175 Test Loss: 0.198086, Test Accuracy: 0.941580, time: 82.4s\n",
            "  Epoch 176 @ step 138000: Train Loss: 0.129786, Train Accuracy: 0.955000\n",
            "Epoch 176 Test Loss: 0.202174, Test Accuracy: 0.936803, time: 82.4s\n",
            "  Epoch 177 @ step 139000: Train Loss: 0.124891, Train Accuracy: 0.956563\n",
            "Epoch 177 Test Loss: 0.224992, Test Accuracy: 0.934514, time: 82.3s\n",
            "Epoch 178 Test Loss: 0.207590, Test Accuracy: 0.941979, time: 82.3s\n",
            "  Epoch 179 @ step 140000: Train Loss: 0.118988, Train Accuracy: 0.959172\n",
            "Epoch 179 Test Loss: 0.198230, Test Accuracy: 0.944168, time: 82.3s\n",
            "  Epoch 180 @ step 141000: Train Loss: 0.116535, Train Accuracy: 0.959953\n",
            "Epoch 180 Test Loss: 0.229880, Test Accuracy: 0.935510, time: 82.3s\n",
            "  Epoch 181 @ step 142000: Train Loss: 0.114687, Train Accuracy: 0.959906\n",
            "Epoch 181 Test Loss: 0.226244, Test Accuracy: 0.936007, time: 82.5s\n",
            "  Epoch 182 @ step 143000: Train Loss: 0.115724, Train Accuracy: 0.959578\n",
            "Epoch 182 Test Loss: 0.209510, Test Accuracy: 0.940784, time: 82.6s\n",
            "Epoch 183 Test Loss: 0.201612, Test Accuracy: 0.943173, time: 82.2s\n",
            "  Epoch 184 @ step 144000: Train Loss: 0.107100, Train Accuracy: 0.962375\n",
            "Epoch 184 Test Loss: 0.204675, Test Accuracy: 0.939789, time: 82.2s\n",
            "  Epoch 185 @ step 145000: Train Loss: 0.105590, Train Accuracy: 0.963125\n",
            "Epoch 185 Test Loss: 0.200421, Test Accuracy: 0.943471, time: 82.2s\n",
            "  Epoch 186 @ step 146000: Train Loss: 0.099391, Train Accuracy: 0.966000\n",
            "Epoch 186 Test Loss: 0.187843, Test Accuracy: 0.945561, time: 82.5s\n",
            "  Epoch 187 @ step 147000: Train Loss: 0.094323, Train Accuracy: 0.967938\n",
            "Epoch 187 Test Loss: 0.213238, Test Accuracy: 0.940784, time: 82.2s\n",
            "Epoch 188 Test Loss: 0.196729, Test Accuracy: 0.946656, time: 82.2s\n",
            "  Epoch 189 @ step 148000: Train Loss: 0.089427, Train Accuracy: 0.969109\n",
            "Epoch 189 Test Loss: 0.196544, Test Accuracy: 0.947552, time: 82.3s\n",
            "  Epoch 190 @ step 149000: Train Loss: 0.086475, Train Accuracy: 0.969703\n",
            "Epoch 190 Test Loss: 0.217343, Test Accuracy: 0.940187, time: 82.2s\n",
            "  Epoch 191 @ step 150000: Train Loss: 0.085613, Train Accuracy: 0.969563\n",
            "Epoch 191 Test Loss: 0.189553, Test Accuracy: 0.947353, time: 82.1s\n",
            "Epoch 192 Test Loss: 0.187102, Test Accuracy: 0.946457, time: 82.3s\n",
            "  Epoch 193 @ step 151000: Train Loss: 0.082161, Train Accuracy: 0.971813\n",
            "Epoch 193 Test Loss: 0.211910, Test Accuracy: 0.942974, time: 82.5s\n",
            "  Epoch 194 @ step 152000: Train Loss: 0.082428, Train Accuracy: 0.971031\n",
            "Epoch 194 Test Loss: 0.196665, Test Accuracy: 0.947751, time: 82.1s\n",
            "  Epoch 195 @ step 153000: Train Loss: 0.076795, Train Accuracy: 0.973719\n",
            "Epoch 195 Test Loss: 0.207008, Test Accuracy: 0.945561, time: 82.2s\n",
            "  Epoch 196 @ step 154000: Train Loss: 0.074379, Train Accuracy: 0.974656\n",
            "Epoch 196 Test Loss: 0.188948, Test Accuracy: 0.945661, time: 82.3s\n",
            "Epoch 197 Test Loss: 0.201455, Test Accuracy: 0.946557, time: 82.4s\n",
            "  Epoch 198 @ step 155000: Train Loss: 0.072651, Train Accuracy: 0.974781\n",
            "Epoch 198 Test Loss: 0.196142, Test Accuracy: 0.948945, time: 82.2s\n",
            "  Epoch 199 @ step 156000: Train Loss: 0.066732, Train Accuracy: 0.976875\n",
            "Epoch 199 Test Loss: 0.188924, Test Accuracy: 0.949443, time: 82.4s\n",
            "  Epoch 200 @ step 157000: Train Loss: 0.063067, Train Accuracy: 0.978156\n",
            "Epoch 200 Test Loss: 0.202932, Test Accuracy: 0.950139, time: 82.5s\n",
            "Epoch 201 Test Loss: 0.183725, Test Accuracy: 0.950637, time: 82.5s\n",
            "  Epoch 202 @ step 158000: Train Loss: 0.058258, Train Accuracy: 0.980078\n",
            "Epoch 202 Test Loss: 0.199318, Test Accuracy: 0.949841, time: 82.4s\n",
            "  Epoch 203 @ step 159000: Train Loss: 0.056703, Train Accuracy: 0.980031\n",
            "Epoch 203 Test Loss: 0.198116, Test Accuracy: 0.950040, time: 82.4s\n",
            "  Epoch 204 @ step 160000: Train Loss: 0.050899, Train Accuracy: 0.982375\n",
            "Epoch 204 Test Loss: 0.195980, Test Accuracy: 0.950239, time: 82.4s\n",
            "  Epoch 205 @ step 161000: Train Loss: 0.049969, Train Accuracy: 0.983031\n",
            "Epoch 205 Test Loss: 0.205309, Test Accuracy: 0.947950, time: 82.4s\n",
            "Epoch 206 Test Loss: 0.197285, Test Accuracy: 0.951334, time: 82.4s\n",
            "  Epoch 207 @ step 162000: Train Loss: 0.049096, Train Accuracy: 0.982656\n",
            "Epoch 207 Test Loss: 0.202927, Test Accuracy: 0.950637, time: 82.3s\n",
            "  Epoch 208 @ step 163000: Train Loss: 0.044244, Train Accuracy: 0.984859\n",
            "Epoch 208 Test Loss: 0.193213, Test Accuracy: 0.951931, time: 82.6s\n",
            "  Epoch 209 @ step 164000: Train Loss: 0.042841, Train Accuracy: 0.985250\n",
            "Epoch 209 Test Loss: 0.198243, Test Accuracy: 0.952229, time: 82.2s\n",
            "  Epoch 210 @ step 165000: Train Loss: 0.041208, Train Accuracy: 0.985828\n",
            "Epoch 210 Test Loss: 0.190816, Test Accuracy: 0.954717, time: 82.4s\n",
            "Epoch 211 Test Loss: 0.197003, Test Accuracy: 0.955016, time: 82.3s\n",
            "  Epoch 212 @ step 166000: Train Loss: 0.036954, Train Accuracy: 0.987109\n",
            "Epoch 212 Test Loss: 0.201163, Test Accuracy: 0.952229, time: 82.5s\n",
            "  Epoch 213 @ step 167000: Train Loss: 0.031677, Train Accuracy: 0.988859\n",
            "Epoch 213 Test Loss: 0.198237, Test Accuracy: 0.952826, time: 82.4s\n",
            "  Epoch 214 @ step 168000: Train Loss: 0.030710, Train Accuracy: 0.989375\n",
            "Epoch 214 Test Loss: 0.197031, Test Accuracy: 0.953822, time: 82.3s\n",
            "Epoch 215 Test Loss: 0.191803, Test Accuracy: 0.953921, time: 82.4s\n",
            "  Epoch 216 @ step 169000: Train Loss: 0.029103, Train Accuracy: 0.990281\n",
            "Epoch 216 Test Loss: 0.188247, Test Accuracy: 0.956708, time: 82.3s\n",
            "  Epoch 217 @ step 170000: Train Loss: 0.028049, Train Accuracy: 0.990156\n",
            "Epoch 217 Test Loss: 0.192644, Test Accuracy: 0.954319, time: 82.3s\n",
            "  Epoch 218 @ step 171000: Train Loss: 0.026274, Train Accuracy: 0.990906\n",
            "Epoch 218 Test Loss: 0.189951, Test Accuracy: 0.955713, time: 82.3s\n",
            "  Epoch 219 @ step 172000: Train Loss: 0.024943, Train Accuracy: 0.991094\n",
            "Epoch 219 Test Loss: 0.188447, Test Accuracy: 0.956708, time: 82.7s\n",
            "Epoch 220 Test Loss: 0.189049, Test Accuracy: 0.956111, time: 82.3s\n",
            "  Epoch 221 @ step 173000: Train Loss: 0.023272, Train Accuracy: 0.992234\n",
            "Epoch 221 Test Loss: 0.191342, Test Accuracy: 0.957205, time: 82.2s\n",
            "  Epoch 222 @ step 174000: Train Loss: 0.022566, Train Accuracy: 0.992266\n",
            "Epoch 222 Test Loss: 0.188556, Test Accuracy: 0.956608, time: 82.4s\n",
            "  Epoch 223 @ step 175000: Train Loss: 0.019649, Train Accuracy: 0.993438\n",
            "Epoch 223 Test Loss: 0.188633, Test Accuracy: 0.958499, time: 82.3s\n",
            "Epoch 224 Test Loss: 0.195442, Test Accuracy: 0.957902, time: 82.3s\n",
            "  Epoch 225 @ step 176000: Train Loss: 0.017870, Train Accuracy: 0.994109\n",
            "Epoch 225 Test Loss: 0.190292, Test Accuracy: 0.957205, time: 82.2s\n",
            "  Epoch 226 @ step 177000: Train Loss: 0.017628, Train Accuracy: 0.994328\n",
            "Epoch 226 Test Loss: 0.192003, Test Accuracy: 0.957305, time: 82.3s\n",
            "  Epoch 227 @ step 178000: Train Loss: 0.015981, Train Accuracy: 0.994859\n",
            "Epoch 227 Test Loss: 0.190898, Test Accuracy: 0.956907, time: 82.3s\n",
            "  Epoch 228 @ step 179000: Train Loss: 0.015685, Train Accuracy: 0.994844\n",
            "Epoch 228 Test Loss: 0.192538, Test Accuracy: 0.958101, time: 82.1s\n",
            "Epoch 229 Test Loss: 0.191237, Test Accuracy: 0.957703, time: 82.3s\n",
            "  Epoch 230 @ step 180000: Train Loss: 0.014374, Train Accuracy: 0.995484\n",
            "Epoch 230 Test Loss: 0.193672, Test Accuracy: 0.958201, time: 82.2s\n",
            "  Epoch 231 @ step 181000: Train Loss: 0.014457, Train Accuracy: 0.994938\n",
            "Epoch 231 Test Loss: 0.195030, Test Accuracy: 0.957604, time: 82.4s\n",
            "  Epoch 232 @ step 182000: Train Loss: 0.013885, Train Accuracy: 0.995391\n",
            "Epoch 232 Test Loss: 0.191678, Test Accuracy: 0.957703, time: 82.3s\n",
            "Epoch 233 Test Loss: 0.193204, Test Accuracy: 0.958101, time: 82.3s\n",
            "  Epoch 234 @ step 183000: Train Loss: 0.013496, Train Accuracy: 0.995609\n",
            "Epoch 234 Test Loss: 0.195028, Test Accuracy: 0.957404, time: 82.5s\n",
            "  Epoch 235 @ step 184000: Train Loss: 0.013497, Train Accuracy: 0.995625\n",
            "Epoch 235 Test Loss: 0.196819, Test Accuracy: 0.957703, time: 82.1s\n",
            "  Epoch 236 @ step 185000: Train Loss: 0.012800, Train Accuracy: 0.995844\n",
            "Epoch 236 Test Loss: 0.193432, Test Accuracy: 0.958698, time: 82.2s\n",
            "  Epoch 237 @ step 186000: Train Loss: 0.012145, Train Accuracy: 0.996031\n",
            "Epoch 237 Test Loss: 0.191230, Test Accuracy: 0.959395, time: 82.3s\n",
            "Epoch 238 Test Loss: 0.192746, Test Accuracy: 0.959295, time: 82.4s\n",
            "  Epoch 239 @ step 187000: Train Loss: 0.011682, Train Accuracy: 0.996406\n",
            "Epoch 239 Test Loss: 0.195250, Test Accuracy: 0.958897, time: 82.4s\n",
            "  Epoch 240 @ step 188000: Train Loss: 0.012042, Train Accuracy: 0.995984\n",
            "Epoch 240 Test Loss: 0.192809, Test Accuracy: 0.959196, time: 82.2s\n",
            "  Epoch 241 @ step 189000: Train Loss: 0.011601, Train Accuracy: 0.996141\n",
            "Epoch 241 Test Loss: 0.194498, Test Accuracy: 0.958698, time: 82.2s\n",
            "  Epoch 242 @ step 190000: Train Loss: 0.012549, Train Accuracy: 0.995938\n",
            "Epoch 242 Test Loss: 0.195600, Test Accuracy: 0.958798, time: 82.2s\n",
            "Epoch 243 Test Loss: 0.195840, Test Accuracy: 0.957703, time: 82.3s\n",
            "  Epoch 244 @ step 191000: Train Loss: 0.010893, Train Accuracy: 0.996391\n",
            "Epoch 244 Test Loss: 0.194499, Test Accuracy: 0.959196, time: 82.2s\n",
            "  Epoch 245 @ step 192000: Train Loss: 0.011565, Train Accuracy: 0.996125\n",
            "Epoch 245 Test Loss: 0.195702, Test Accuracy: 0.958400, time: 82.5s\n",
            "  Epoch 246 @ step 193000: Train Loss: 0.012201, Train Accuracy: 0.996156\n",
            "Epoch 246 Test Loss: 0.193514, Test Accuracy: 0.959395, time: 82.3s\n",
            "Epoch 247 Test Loss: 0.197621, Test Accuracy: 0.958499, time: 82.2s\n",
            "  Epoch 248 @ step 194000: Train Loss: 0.011476, Train Accuracy: 0.996250\n",
            "Epoch 248 Test Loss: 0.192029, Test Accuracy: 0.959793, time: 82.2s\n",
            "  Epoch 249 @ step 195000: Train Loss: 0.011017, Train Accuracy: 0.996359\n",
            "Epoch 249 Test Loss: 0.190799, Test Accuracy: 0.959395, time: 82.4s\n",
            "Final Test Loss: 0.190799, Test Accuracy: 0.959395, Total time: 20593.2s\n"
          ],
          "name": "stdout"
        }
      ]
    },
    {
      "metadata": {
        "id": "srhEuvMUX9S0",
        "colab_type": "code",
        "colab": {}
      },
      "cell_type": "code",
      "source": [
        "torch.save(model3.state_dict(), 'checkpoint1')"
      ],
      "execution_count": 0,
      "outputs": []
    },
    {
      "metadata": {
        "colab_type": "text",
        "id": "xbx5REUdc-Xs"
      },
      "cell_type": "markdown",
      "source": [
        "**What changes did you make to improve your model?**"
      ]
    },
    {
      "metadata": {
        "colab_type": "code",
        "id": "uItu0w4fZTuG",
        "colab": {
          "base_uri": "https://localhost:8080/",
          "height": 573
        },
        "outputId": "2881cdf9-98da-485c-f2b6-43c746502b9f"
      },
      "cell_type": "code",
      "source": [
        "plot_graphs(\"AwesomeModel\", metrics3)"
      ],
      "execution_count": 16,
      "outputs": [
        {
          "output_type": "display_data",
          "data": {
            "image/png": "[encoded data removed]",
            "text/plain": [
              "<Figure size 432x288 with 1 Axes>"
            ]
          },
          "metadata": {
            "tags": []
          }
        },
        {
          "output_type": "display_data",
          "data": {
            "image/png": "[encoded data removed]",
            "text/plain": [
              "<Figure size 432x288 with 1 Axes>"
            ]
          },
          "metadata": {
            "tags": []
          }
        }
      ]
    },
    {
      "metadata": {
        "colab_type": "text",
        "id": "rWlP2WsodgK0"
      },
      "cell_type": "markdown",
      "source": [
        "After you get a nice model, download the test_file.zip and unzip it to get test_file.pt. In colab, you can explore your files from the left side bar. You can also download the files to your machine from there."
      ]
    },
    {
      "metadata": {
        "colab_type": "code",
        "id": "Z6UZInUCdfQ1",
        "colab": {
          "base_uri": "https://localhost:8080/",
          "height": 335
        },
        "outputId": "a99b0333-6ae9-48e4-84b2-73210069b041"
      },
      "cell_type": "code",
      "source": [
        "!wget http://courses.engr.illinois.edu/cs498aml/sp2019/homeworks/test_file.zip\n",
        "!unzip test_file.zip"
      ],
      "execution_count": 17,
      "outputs": [
        {
          "output_type": "stream",
          "text": [
            "--2019-04-28 13:08:49--  http://courses.engr.illinois.edu/cs498aml/sp2019/homeworks/test_file.zip\n",
            "Resolving courses.engr.illinois.edu (courses.engr.illinois.edu)... 130.126.151.9\n",
            "Connecting to courses.engr.illinois.edu (courses.engr.illinois.edu)|130.126.151.9|:80... connected.\n",
            "HTTP request sent, awaiting response... 301 Moved Permanently\n",
            "Location: https://courses.engr.illinois.edu/cs498aml/sp2019/homeworks/test_file.zip [following]\n",
            "--2019-04-28 13:08:49--  https://courses.engr.illinois.edu/cs498aml/sp2019/homeworks/test_file.zip\n",
            "Connecting to courses.engr.illinois.edu (courses.engr.illinois.edu)|130.126.151.9|:443... connected.\n",
            "HTTP request sent, awaiting response... 200 OK\n",
            "Length: 3841776 (3.7M) [application/x-zip-compressed]\n",
            "Saving to: ‘test_file.zip’\n",
            "\n",
            "test_file.zip       100%[===================>]   3.66M  6.20MB/s    in 0.6s    \n",
            "\n",
            "2019-04-28 13:08:50 (6.20 MB/s) - ‘test_file.zip’ saved [3841776/3841776]\n",
            "\n",
            "Archive:  test_file.zip\n",
            "  inflating: test_file.pt            \n"
          ],
          "name": "stdout"
        }
      ]
    },
    {
      "metadata": {
        "colab_type": "text",
        "id": "7g5caFPreMLT"
      },
      "cell_type": "markdown",
      "source": [
        "Then use your model to predict the label of the test images. Fill the remaining code below, where x has two dimensions (batch_size x one image size). Remember to reshpe x accordingly before feeding it into your model. The submission.txt should contain one predicted label (0~9) each line. Submit your submission.txt to the competition in gradscope."
      ]
    },
    {
      "metadata": {
        "colab_type": "code",
        "id": "yNdYAH9XeLlb",
        "colab": {}
      },
      "cell_type": "code",
      "source": [
        "import torch.utils.data as Data\n",
        "\n",
        "test_file = 'test_file.pt'\n",
        "pred_file = 'submission.txt'\n",
        "\n",
        "f_pred = open(pred_file,'w') \n",
        "tensor = torch.load(test_file)\n",
        "torch_dataset = Data.TensorDataset(tensor)  \n",
        "test_loader = torch.utils.data.DataLoader(torch_dataset, batch_size, shuffle=False, num_workers=2)\n",
        "\n",
        "for ele in test_loader:\n",
        "    x = ele[0]\n",
        "    y = model3(x.view(-1, 3, 32, 32).cuda())\n",
        "    _, pred = torch.max(y, 1)\n",
        "    for p in pred.data.cpu().numpy():\n",
        "      f_pred.write(str(p) + '\\n')\n",
        "    \n",
        "f_pred.close()"
      ],
      "execution_count": 0,
      "outputs": []
    },
    {
      "metadata": {
        "id": "9O8ctDPmjLq0",
        "colab_type": "code",
        "colab": {}
      },
      "cell_type": "code",
      "source": [
        "from google.colab import files\n",
        "files.download('submission.txt')"
      ],
      "execution_count": 0,
      "outputs": []
    },
    {
      "metadata": {
        "colab_type": "text",
        "id": "8-L6F0CMqc-A"
      },
      "cell_type": "markdown",
      "source": [
        "\n",
        "# Report\n",
        "\n",
        "## Part 0: Imports and Basic Setup (5 Points)\n",
        "Nothing to report for this part. You will be just scored for finishing the setup.\n",
        "\n",
        "## Part 1: Fully connected neural networks (25 Points)\n",
        "\n",
        "Test (on validation set) accuracy (5 Points): 0.3806\n",
        "\n",
        "Test loss (5 Points): 1.725528\n",
        "\n",
        "Training time (5 Points): 84.2s\n",
        "\n",
        "\n",
        "Plots:\n",
        "\n",
        "- Plot a graph of accuracy on validation set vs training steps (5 Points) See above.\n",
        "\n",
        "- Plot a graph of loss on validation set vs training steps (5 Points) See above.\n",
        "\n",
        "\n"
      ]
    },
    {
      "metadata": {
        "id": "A4Ct1NjlyIYi",
        "colab_type": "code",
        "colab": {
          "base_uri": "https://localhost:8080/",
          "height": 573
        },
        "outputId": "82fabe39-301e-4b73-c4e1-d8162a1b2a24"
      },
      "cell_type": "code",
      "source": [
        "plot_graphs(\"TwoLayerModel\", metrics1)"
      ],
      "execution_count": 20,
      "outputs": [
        {
          "output_type": "display_data",
          "data": {
            "image/png": "[encoded data removed]",
            "text/plain": [
              "<Figure size 432x288 with 1 Axes>"
            ]
          },
          "metadata": {
            "tags": []
          }
        },
        {
          "output_type": "display_data",
          "data": {
            "image/png": "[encoded data removed]",
            "text/plain": [
              "<Figure size 432x288 with 1 Axes>"
            ]
          },
          "metadata": {
            "tags": []
          }
        }
      ]
    },
    {
      "metadata": {
        "id": "flTB3KADyE2y",
        "colab_type": "text"
      },
      "cell_type": "markdown",
      "source": [
        "## Part 2: Convolution Network (Basic) (35 Points)\n",
        "\n",
        "Tensor dimensions: A good way to debug your network for size mismatches is to print the dimension of output after every layers:\n",
        "\n",
        "(10 Points)\n",
        "\n",
        "Output dimension after 1st conv layer:  [batch_size, 16, 32, 32]\n",
        "\n",
        "Output dimension after 1st max pooling:  [[batch_size, 16, 16, 16]\n",
        "\n",
        "Output dimension after 2nd conv layer: [[batch_size, 16, 16, 16]\n",
        "\n",
        "Output dimension after flatten layer: [[batch_size, 4096]\n",
        "\n",
        "Output dimension after 1st fully connected layer:  [[batch_size, 64]\n",
        "\n",
        "Output dimension after 2nd fully connected layer: [[batch_size, 10] \n",
        "\n",
        "Test (on validation set) Accuracy (5 Points): 0.567\n",
        "\n",
        "Test loss (5 Points): 1.206987\n",
        "\n",
        "Training time (5 Points): 129.0s\n",
        "\n",
        "\n",
        "Plots:\n",
        "\n",
        "- Plot a graph of accuracy on validation set vs training steps (5 Points) See above.\n",
        "\n",
        "- Plot a graph of loss on validation set vs training steps (5 Points) See above.\n",
        "\n"
      ]
    },
    {
      "metadata": {
        "id": "EAK5BMjfyQIM",
        "colab_type": "code",
        "colab": {
          "base_uri": "https://localhost:8080/",
          "height": 573
        },
        "outputId": "8bb1c2d9-1799-44c0-8ff1-0024bd231cdb"
      },
      "cell_type": "code",
      "source": [
        "plot_graphs(\"ConvModel\", metrics2)"
      ],
      "execution_count": 21,
      "outputs": [
        {
          "output_type": "display_data",
          "data": {
            "image/png": "[encoded data removed]",
            "text/plain": [
              "<Figure size 432x288 with 1 Axes>"
            ]
          },
          "metadata": {
            "tags": []
          }
        },
        {
          "output_type": "display_data",
          "data": {
            "image/png": "[encoded data removed]",
            "text/plain": [
              "<Figure size 432x288 with 1 Axes>"
            ]
          },
          "metadata": {
            "tags": []
          }
        }
      ]
    },
    {
      "metadata": {
        "id": "xxcVWUy4xtcm",
        "colab_type": "text"
      },
      "cell_type": "markdown",
      "source": [
        "## Part 3: Convolution Network (Add one or more  suggested changes) (35 Points)\n",
        "\n",
        "Describe the additional changes implemented, your intuition for as to why it works, you may also describe other approaches you experimented with (10 Points):\n",
        "* Added transformations to training set RandomCrop and RandomHorizontalFlip\n",
        "* Increased batch size  to 64\n",
        "* Increased number of epochs to 50\n",
        "* 3-branch residual netword was used https://openreview.net/pdf?id=HkO-PCmYl\n",
        "* Added Shake Shake normalization for both forward and backward passes\n",
        "* Initial learning rate was increased to 0.1 but at the same time scheduler was added\n",
        "* Used a cosine annealing schedule to set the learning rate\n",
        "\n",
        "Test (on validation set) Accuracy (5 Points): 0.959395\n",
        "\n",
        "Test loss (5 Points): 0.190799\n",
        "\n",
        "Training time (5 Points): 20593.2s\n",
        "\n",
        "\n",
        "Plots:\n",
        "\n",
        "- Plot a graph of accuracy on validation set vs training steps (5 Points) See above.\n",
        "\n",
        "- Plot a graph of loss on validation set vs training steps (5 Points) See above.\n",
        "\n",
        "10 bonus points will be awarded to top 3 scorers on leaderboard (in case of tie for 3rd position everyone tied for 3rd position will get the bonus)"
      ]
    },
    {
      "metadata": {
        "colab_type": "code",
        "id": "cMpXJT3p1tjB",
        "colab": {
          "base_uri": "https://localhost:8080/",
          "height": 573
        },
        "outputId": "04b683cd-57a4-49f5-ddea-1687194644bb"
      },
      "cell_type": "code",
      "source": [
        "plot_graphs(\"AwesomeModel\", metrics3)"
      ],
      "execution_count": 22,
      "outputs": [
        {
          "output_type": "display_data",
          "data": {
            "image/png": "[encoded data removed]",
            "text/plain": [
              "<Figure size 432x288 with 1 Axes>"
            ]
          },
          "metadata": {
            "tags": []
          }
        },
        {
          "output_type": "display_data",
          "data": {
            "image/png": "[encoded data removed]",
            "text/plain": [
              "<Figure size 432x288 with 1 Axes>"
            ]
          },
          "metadata": {
            "tags": []
          }
        }
      ]
    }
  ]
}