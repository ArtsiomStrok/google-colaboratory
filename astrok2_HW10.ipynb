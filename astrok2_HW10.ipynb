{
  "nbformat": 4,
  "nbformat_minor": 0,
  "metadata": {
    "colab": {
      "name": "astrok2_HW10.ipynb",
      "version": "0.3.2",
      "provenance": [],
      "collapsed_sections": [],
      "include_colab_link": true
    },
    "language_info": {
      "codemirror_mode": {
        "name": "ipython",
        "version": 3
      },
      "file_extension": ".py",
      "mimetype": "text/x-python",
      "name": "python",
      "nbconvert_exporter": "python",
      "pygments_lexer": "ipython3",
      "version": "3.6.8"
    },
    "kernelspec": {
      "name": "python3",
      "display_name": "Python 3"
    },
    "accelerator": "GPU"
  },
  "cells": [
    {
      "cell_type": "markdown",
      "metadata": {
        "id": "view-in-github",
        "colab_type": "text"
      },
      "source": [
        "<a href=\"https://colab.research.google.com/github/ArtsiomStrok/google-colaboratory/blob/master/astrok2_HW10.ipynb\" target=\"_parent\"><img src=\"https://colab.research.google.com/assets/colab-badge.svg\" alt=\"Open In Colab\"/></a>"
      ]
    },
    {
      "metadata": {
        "colab_type": "text",
        "id": "vUTgGUi4JEft"
      },
      "cell_type": "markdown",
      "source": [
        "# Homework 10 - CIFAR10 Image Classification with PyTorch"
      ]
    },
    {
      "metadata": {
        "colab_type": "text",
        "id": "T5Kx8gJBJEW_"
      },
      "cell_type": "markdown",
      "source": [
        "## About"
      ]
    },
    {
      "metadata": {
        "colab_type": "text",
        "id": "aRAalfd1GITX"
      },
      "cell_type": "markdown",
      "source": [
        "The goal of the homework is to train a convolutional neural network on the standard CIFAR10 image classfication dataset.\n",
        "\n",
        "When solving machine learning tasks using neural networks, one typically starts with a simple network architecture and then improves the network by adding new layers, retraining, adjusting parameters, retraining, etc.  We attempt to illustrate this process below with several architecture improvements.\n"
      ]
    },
    {
      "metadata": {
        "colab_type": "text",
        "id": "OCl5gakxJes-"
      },
      "cell_type": "markdown",
      "source": [
        "## Dev Environment\n",
        "### Working on Google Colab\n",
        "You may choose to work locally or on Google Colaboratory. You have access to free compute through this service.   Colab is recommended since it will be setup correctly and will have access to GPU resources.\n",
        "1. Visit https://colab.research.google.com/drive \n",
        "2. Navigate to the **`Upload`** tab, and upload your `HW10.ipynb`\n",
        "3. Now on the top right corner, under the `Comment` and `Share` options, you should see a `Connect` option. Once you are connected, you will have access to a VM with 12GB RAM, 50 GB disk space and a single GPU. The dropdown menu will allow you to connect to a local runtime as well.\n",
        "\n",
        "**Notes:** \n",
        "* **If you do not have a working setup for Python 3, this is your best bet. It will also save you from heavy installations like `tensorflow` if you don't want to deal with those.**\n",
        "* ***There is a downside*. You can only use this instance for a single 12-hour stretch, after which your data will be deleted, and you would have redownload all your datasets, any libraries not already on the VM, and regenerate your logs**.\n",
        "\n",
        "\n",
        "### Installing PyTorch and Dependencies\n",
        "\n",
        "The instructions for installing and setting up PyTorch can be found at https://pytorch.org/get-started/locally/. Make sure you follow the instructions for your machine. For any of the remaining libraries used in this assignment:\n",
        "* We have provided a `hw8_requirements.txt` file on the homework web page. \n",
        "* Download this file, and in the same directory you can run `pip3 install -r hw8_requirements.txt`\n",
        "​\n",
        "Check that PyTorch installed correctly by running the following:"
      ]
    },
    {
      "metadata": {
        "colab_type": "code",
        "id": "IaJ6BLrAJeCU",
        "colab": {
          "base_uri": "https://localhost:8080/",
          "height": 102
        },
        "outputId": "e03c77ab-2083-44b7-b119-523835dcc23b"
      },
      "cell_type": "code",
      "source": [
        "import torch\n",
        "torch.rand(5, 3)"
      ],
      "execution_count": 1,
      "outputs": [
        {
          "output_type": "execute_result",
          "data": {
            "text/plain": [
              "tensor([[0.7795, 0.1830, 0.8304],\n",
              "        [0.3227, 0.6870, 0.1202],\n",
              "        [0.6746, 0.1433, 0.3086],\n",
              "        [0.7945, 0.7269, 0.2247],\n",
              "        [0.2627, 0.3465, 0.5308]])"
            ]
          },
          "metadata": {
            "tags": []
          },
          "execution_count": 1
        }
      ]
    },
    {
      "metadata": {
        "colab_type": "text",
        "id": "nEmmCk1IJiGn"
      },
      "cell_type": "markdown",
      "source": [
        "## Part 0 Imports and Basic Setup  (5 Points)"
      ]
    },
    {
      "metadata": {
        "colab_type": "text",
        "id": "Y3mTddKuXPBU"
      },
      "cell_type": "markdown",
      "source": [
        "First, import the required libraries as follows. The libraries we will use will be the same as those in HW8. "
      ]
    },
    {
      "metadata": {
        "colab_type": "code",
        "id": "UwtDsq3VbrNY",
        "colab": {}
      },
      "cell_type": "code",
      "source": [
        "import numpy as np\n",
        "import torch\n",
        "from torch import nn\n",
        "from torch import optim\n",
        "\n",
        "import matplotlib.pyplot as plt"
      ],
      "execution_count": 0,
      "outputs": []
    },
    {
      "metadata": {
        "colab_type": "text",
        "id": "QWKp_UGlWTyR"
      },
      "cell_type": "markdown",
      "source": [
        "**GPU Support**\n",
        "\n",
        "Training of large network can take a long time. PyTorch supports GPU with just a small amount of effort.\n",
        "\n",
        "When creating our networks, we will call \n",
        "`net.to(device)` to tell the network to train on the GPU, if one is available.  Note, if the network utilizes the GPU, it is important that any tensors we use with it (such as the data) also reside on the CPU.  Thus, a call like `images = images.to(device)` is necessary with any data we want to use with the GPU.\n",
        "\n",
        "Note: If you can't get access to a GPU, don't worry to much.  Since we use very small networks, the difference between CPU and GPU isn't large and in some cases GPU will actually be slower."
      ]
    },
    {
      "metadata": {
        "colab_type": "code",
        "id": "gbGGmnIXYca9",
        "colab": {
          "base_uri": "https://localhost:8080/",
          "height": 34
        },
        "outputId": "2ec33054-7629-47f0-a21f-d2b13081e937"
      },
      "cell_type": "code",
      "source": [
        "import torch.cuda as cuda\n",
        "\n",
        "# Use a GPU, i.e. cuda:0 device if it available.\n",
        "device = torch.device(\"cuda:0\" if cuda.is_available() else \"cpu\")\n",
        "print(device)"
      ],
      "execution_count": 3,
      "outputs": [
        {
          "output_type": "stream",
          "text": [
            "cuda:0\n"
          ],
          "name": "stdout"
        }
      ]
    },
    {
      "metadata": {
        "colab_type": "text",
        "id": "07RjQbhF1tiK"
      },
      "cell_type": "markdown",
      "source": [
        "### Training Code"
      ]
    },
    {
      "metadata": {
        "cellView": "form",
        "colab_type": "code",
        "id": "_DZm8ammPCbL",
        "colab": {}
      },
      "cell_type": "code",
      "source": [
        "import time\n",
        "\n",
        "class Flatten(nn.Module):\n",
        "  \"\"\"NN Module that flattens the incoming tensor.\"\"\"\n",
        "  def forward(self, input):\n",
        "    return input.view(input.size(0), -1)\n",
        "  \n",
        "def train(model, train_loader, test_loader, loss_func, opt, scheduler, num_epochs=10):\n",
        "  all_training_loss = np.zeros((0,2))\n",
        "  all_training_acc = np.zeros((0,2))\n",
        "  all_test_loss = np.zeros((0,2))\n",
        "  all_test_acc = np.zeros((0,2))\n",
        "  \n",
        "  training_step = 0\n",
        "  training_loss, training_acc = 2.0, 0.0\n",
        "  print_every = 1000\n",
        "  \n",
        "  start = time.clock()\n",
        "  \n",
        "  for i in range(num_epochs):\n",
        "    epoch_start = time.clock() \n",
        "   \n",
        "    model.train()\n",
        "    for images, labels in train_loader:\n",
        "      images, labels = images.to(device), labels.to(device)\n",
        "      opt.zero_grad()\n",
        "\n",
        "      preds = model(images)\n",
        "      loss = loss_func(preds, labels)\n",
        "      loss.backward()\n",
        "      opt.step()\n",
        "      if scheduler:\n",
        "        scheduler.step() \n",
        "      \n",
        "      training_loss += loss.item()\n",
        "      training_acc += (torch.argmax(preds, dim=1)==labels).float().mean()\n",
        "      \n",
        "      if training_step % print_every == 0:\n",
        "        training_loss /= print_every\n",
        "        training_acc /= print_every\n",
        "        \n",
        "        all_training_loss = np.concatenate((all_training_loss, [[training_step, training_loss]]))\n",
        "        all_training_acc = np.concatenate((all_training_acc, [[training_step, training_acc]]))\n",
        "        \n",
        "        print('  Epoch %d @ step %d: Train Loss: %3f, Train Accuracy: %3f' % (\n",
        "            i, training_step, training_loss, training_acc))\n",
        "        training_loss, training_acc = 0.0, 0.0\n",
        "        \n",
        "      training_step+=1\n",
        "\n",
        "    model.eval()\n",
        "    with torch.no_grad():\n",
        "      validation_loss, validation_acc = 0.0, 0.0\n",
        "      count = 0\n",
        "      for images, labels in test_loader:\n",
        "        images, labels = images.to(device), labels.to(device)\n",
        "        output = model(images)\n",
        "        validation_loss+=loss_func(output,labels)\n",
        "        validation_acc+=(torch.argmax(output, dim=1) == labels).float().mean()\n",
        "        count += 1\n",
        "      validation_loss/=count\n",
        "      validation_acc/=count\n",
        "      \n",
        "      all_test_loss = np.concatenate((all_test_loss, [[training_step, validation_loss]]))\n",
        "      all_test_acc = np.concatenate((all_test_acc, [[training_step, validation_acc]]))\n",
        "      \n",
        "      epoch_time = time.clock() - epoch_start\n",
        "      \n",
        "      print('Epoch %d Test Loss: %3f, Test Accuracy: %3f, time: %.1fs' % (\n",
        "          i, validation_loss, validation_acc, epoch_time))\n",
        "      \n",
        "  total_time = time.clock() - start\n",
        "  print('Final Test Loss: %3f, Test Accuracy: %3f, Total time: %.1fs' % (\n",
        "      validation_loss, validation_acc, total_time))\n",
        "\n",
        "  return {'loss': { 'train': all_training_loss, 'test': all_test_loss },\n",
        "          'accuracy': { 'train': all_training_acc, 'test': all_test_acc }}\n",
        "\n",
        "def plot_graphs(model_name, metrics):\n",
        "  for metric, values in metrics.items():\n",
        "    for name, v in values.items():\n",
        "      plt.plot(v[:,0], v[:,1], label=name)\n",
        "    plt.title(f'{metric} for {model_name}')\n",
        "    plt.legend()\n",
        "    plt.xlabel(\"Training Steps\")\n",
        "    plt.ylabel(metric)\n",
        "    plt.show()\n",
        "    "
      ],
      "execution_count": 0,
      "outputs": []
    },
    {
      "metadata": {
        "colab_type": "text",
        "id": "1RupXQbCaXb3"
      },
      "cell_type": "markdown",
      "source": [
        "Load the** CIFA-10** dataset and define the transformations. You may also want to print its structure, size, as well as sample a few images to get a sense of how to design the network. "
      ]
    },
    {
      "metadata": {
        "colab_type": "code",
        "id": "mIJmLIgaZ_d3",
        "colab": {}
      },
      "cell_type": "code",
      "source": [
        "!mkdir hw10_data"
      ],
      "execution_count": 0,
      "outputs": []
    },
    {
      "metadata": {
        "colab_type": "code",
        "id": "aDBbPmPPaQuG",
        "colab": {
          "base_uri": "https://localhost:8080/",
          "height": 51
        },
        "outputId": "a0cd873c-c905-422b-bf88-e99aa4b16842"
      },
      "cell_type": "code",
      "source": [
        "# Download the data.\n",
        "from torchvision import datasets, transforms\n",
        "\n",
        "transformations = transforms.Compose(\n",
        "    [transforms.ToTensor(),\n",
        "     transforms.Normalize((0.5, 0.5, 0.5), (0.5, 0.5, 0.5))])\n",
        "train_set = datasets.CIFAR10(root='hw10_data/', download=True, transform=transformations)\n",
        "test_set = datasets.CIFAR10(root='hw10_data', download=True, train=False, transform=transformations)"
      ],
      "execution_count": 29,
      "outputs": [
        {
          "output_type": "stream",
          "text": [
            "Files already downloaded and verified\n",
            "Files already downloaded and verified\n"
          ],
          "name": "stdout"
        }
      ]
    },
    {
      "metadata": {
        "colab_type": "text",
        "id": "dfomsGyJiKz9"
      },
      "cell_type": "markdown",
      "source": [
        "Use `DataLoader` to create a loader for the training set and a loader for the testing set. You can use a `batch_size` of 8 to start, and change it if you wish."
      ]
    },
    {
      "metadata": {
        "colab_type": "code",
        "id": "Ioe04mbSiQiV",
        "colab": {}
      },
      "cell_type": "code",
      "source": [
        "from torch.utils.data import DataLoader\n",
        "\n",
        "batch_size = 8\n",
        "train_loader = torch.utils.data.DataLoader(train_set, batch_size, shuffle=True, num_workers=2)\n",
        "test_loader = torch.utils.data.DataLoader(test_set, batch_size, shuffle=True, num_workers=2)\n",
        "\n",
        "input_shape = np.array(train_set[0][0]).shape\n",
        "input_dim = input_shape[1]*input_shape[2]*input_shape[0]\n"
      ],
      "execution_count": 0,
      "outputs": []
    },
    {
      "metadata": {
        "colab_type": "code",
        "id": "fGoPdmuUOOiE",
        "colab": {}
      },
      "cell_type": "code",
      "source": [
        "training_epochs = 5"
      ],
      "execution_count": 0,
      "outputs": []
    },
    {
      "metadata": {
        "colab_type": "text",
        "id": "3T2-qkh8frqF"
      },
      "cell_type": "markdown",
      "source": [
        "## Part 1 CIFAR10 with Fully Connected Neural Netowrk (25 Points)\n",
        "\n",
        "As a warm-up, let's begin by training a two-layer fully connected neural network model on ** CIFAR-10** dataset. You may go back to check HW8 for some basics.\n",
        "\n",
        "We will give you this code to use as a baseline to compare against your CNN models."
      ]
    },
    {
      "metadata": {
        "colab_type": "code",
        "id": "Ck1CGpRycRFE",
        "colab": {
          "base_uri": "https://localhost:8080/",
          "height": 663
        },
        "outputId": "b40324b0-7875-41ee-9a6d-19087840aa67"
      },
      "cell_type": "code",
      "source": [
        "class TwoLayerModel(nn.Module):\n",
        "  def __init__(self):\n",
        "    super(TwoLayerModel, self).__init__()\n",
        "    self.net = nn.Sequential(\n",
        "      Flatten(), \n",
        "      nn.Linear(input_dim, 64), \n",
        "      nn.ReLU(), \n",
        "      nn.Linear(64, 10))\n",
        "    \n",
        "  def forward(self, x):\n",
        "    return self.net(x)\n",
        "\n",
        "model = TwoLayerModel().to(device)\n",
        "\n",
        "loss = nn.CrossEntropyLoss()\n",
        "optimizer = optim.RMSprop(model.parameters(), lr=0.001, weight_decay=0.01)\n",
        "\n",
        "# Training epoch should be about 15-20 sec each on GPU.\n",
        "metrics = train(model, train_loader, test_loader, loss, optimizer, None, training_epochs)"
      ],
      "execution_count": 10,
      "outputs": [
        {
          "output_type": "stream",
          "text": [
            "\r170500096it [01:50, 1537049.55it/s]                               "
          ],
          "name": "stderr"
        },
        {
          "output_type": "stream",
          "text": [
            "  Epoch 0 @ step 0: Train Loss: 0.004332, Train Accuracy: 0.000125\n",
            "  Epoch 0 @ step 1000: Train Loss: 1.956860, Train Accuracy: 0.322250\n",
            "  Epoch 0 @ step 2000: Train Loss: 1.817140, Train Accuracy: 0.347125\n",
            "  Epoch 0 @ step 3000: Train Loss: 1.776824, Train Accuracy: 0.365250\n",
            "  Epoch 0 @ step 4000: Train Loss: 1.785679, Train Accuracy: 0.365250\n",
            "  Epoch 0 @ step 5000: Train Loss: 1.761738, Train Accuracy: 0.369500\n",
            "  Epoch 0 @ step 6000: Train Loss: 1.760869, Train Accuracy: 0.373750\n",
            "Epoch 0 Test Loss: 1.739350, Test Accuracy: 0.364300, time: 17.7s\n",
            "  Epoch 1 @ step 7000: Train Loss: 1.736085, Train Accuracy: 0.379625\n",
            "  Epoch 1 @ step 8000: Train Loss: 1.757553, Train Accuracy: 0.380125\n",
            "  Epoch 1 @ step 9000: Train Loss: 1.765420, Train Accuracy: 0.369625\n",
            "  Epoch 1 @ step 10000: Train Loss: 1.759670, Train Accuracy: 0.373500\n",
            "  Epoch 1 @ step 11000: Train Loss: 1.755283, Train Accuracy: 0.371750\n",
            "  Epoch 1 @ step 12000: Train Loss: 1.746297, Train Accuracy: 0.376250\n",
            "Epoch 1 Test Loss: 1.742905, Test Accuracy: 0.368200, time: 16.7s\n",
            "  Epoch 2 @ step 13000: Train Loss: 1.730347, Train Accuracy: 0.379250\n",
            "  Epoch 2 @ step 14000: Train Loss: 1.730234, Train Accuracy: 0.391375\n",
            "  Epoch 2 @ step 15000: Train Loss: 1.736829, Train Accuracy: 0.380875\n",
            "  Epoch 2 @ step 16000: Train Loss: 1.753877, Train Accuracy: 0.375375\n",
            "  Epoch 2 @ step 17000: Train Loss: 1.758354, Train Accuracy: 0.369375\n",
            "  Epoch 2 @ step 18000: Train Loss: 1.737872, Train Accuracy: 0.390625\n",
            "Epoch 2 Test Loss: 1.719350, Test Accuracy: 0.386800, time: 17.0s\n",
            "  Epoch 3 @ step 19000: Train Loss: 1.739448, Train Accuracy: 0.372625\n",
            "  Epoch 3 @ step 20000: Train Loss: 1.740659, Train Accuracy: 0.378000\n",
            "  Epoch 3 @ step 21000: Train Loss: 1.731585, Train Accuracy: 0.384875\n",
            "  Epoch 3 @ step 22000: Train Loss: 1.729655, Train Accuracy: 0.387375\n",
            "  Epoch 3 @ step 23000: Train Loss: 1.739840, Train Accuracy: 0.375125\n",
            "  Epoch 3 @ step 24000: Train Loss: 1.742518, Train Accuracy: 0.386000\n",
            "Epoch 3 Test Loss: 1.721233, Test Accuracy: 0.377600, time: 17.8s\n",
            "  Epoch 4 @ step 25000: Train Loss: 1.744992, Train Accuracy: 0.376375\n",
            "  Epoch 4 @ step 26000: Train Loss: 1.739240, Train Accuracy: 0.379125\n",
            "  Epoch 4 @ step 27000: Train Loss: 1.736400, Train Accuracy: 0.380250\n",
            "  Epoch 4 @ step 28000: Train Loss: 1.721607, Train Accuracy: 0.384875\n",
            "  Epoch 4 @ step 29000: Train Loss: 1.743873, Train Accuracy: 0.378625\n",
            "  Epoch 4 @ step 30000: Train Loss: 1.749572, Train Accuracy: 0.376625\n",
            "  Epoch 4 @ step 31000: Train Loss: 1.718378, Train Accuracy: 0.390500\n",
            "Epoch 4 Test Loss: 1.724045, Test Accuracy: 0.378900, time: 17.0s\n",
            "Final Test Loss: 1.724045, Test Accuracy: 0.378900, Total time: 86.2s\n"
          ],
          "name": "stdout"
        }
      ]
    },
    {
      "metadata": {
        "colab_type": "text",
        "id": "qjbncuMnKpf7"
      },
      "cell_type": "markdown",
      "source": [
        "**Plot the model results**\n",
        "\n",
        "Normally we would want to use Tensorboard for looking at metrics.  However, if colab reset while we are working, we might lose our logs and therefore our metrics.  Let's just plot some graphs that will survive across colab instances."
      ]
    },
    {
      "metadata": {
        "colab_type": "code",
        "id": "CuVL9MJ_D92h",
        "colab": {
          "base_uri": "https://localhost:8080/",
          "height": 573
        },
        "outputId": "3c198774-3b68-4e2b-947d-73d094e3799a"
      },
      "cell_type": "code",
      "source": [
        "plot_graphs(\"TwoLayerModel\", metrics)"
      ],
      "execution_count": 11,
      "outputs": [
        {
          "output_type": "display_data",
          "data": {
            "image/png": "[encoded data removed]",
            "text/plain": [
              "<Figure size 432x288 with 1 Axes>"
            ]
          },
          "metadata": {
            "tags": []
          }
        },
        {
          "output_type": "display_data",
          "data": {
            "image/png": "[encoded data removed]",
            "text/plain": [
              "<Figure size 432x288 with 1 Axes>"
            ]
          },
          "metadata": {
            "tags": []
          }
        }
      ]
    },
    {
      "metadata": {
        "colab_type": "text",
        "id": "4_xi8bkkfsM7"
      },
      "cell_type": "markdown",
      "source": [
        "## Part 2 Convolutional Neural Network (CNN) (35 Points)\n",
        "\n",
        "Now, let's design a convolution neural netwrok!\n",
        "\n",
        "Build a simple CNN model, inserting 2 CNN layers in from of our 2 layer fully connect model from above:\n",
        "\n",
        "1. A convolution with\t3x3 filter, 16 output channels, stride = 1, padding=1\n",
        "2. A ReLU activation\n",
        "2. A Max-Pooling layer with 2x2 window\n",
        "3. A convolution,\t3x3 filter, 16 output channels, stride = 1, padding=1\n",
        "4. A ReLU activation\n",
        "4. Flatten layer\n",
        "5. Fully connected linear layer with output size 64\n",
        "6. ReLU\n",
        "7. Fully connected linear layer, with output size 10\n",
        "\n",
        "You will have to figure out the input sizes of the first fully connnected layer based on the previous layer sizes. Note that you also need to fill those in the report section (see report section in the notebook for details) "
      ]
    },
    {
      "metadata": {
        "colab_type": "code",
        "id": "tLXjjywngO7g",
        "colab": {
          "base_uri": "https://localhost:8080/",
          "height": 663
        },
        "outputId": "8d08a2e4-a8ab-45f8-ae22-e478f1cbc430"
      },
      "cell_type": "code",
      "source": [
        "class ConvModel(nn.Module):\n",
        "    def __init__(self):\n",
        "        super(ConvModel, self).__init__()\n",
        "        self.model = torch.nn.Sequential(\n",
        "            nn.Conv2d(3, 16, kernel_size=3, stride=1, padding=1),\n",
        "            nn.ReLU(),\n",
        "            nn.MaxPool2d(kernel_size=2, stride=2),\n",
        "            nn.Conv2d(16, 16, kernel_size=3, stride=1, padding=1),\n",
        "            nn.ReLU(),\n",
        "            Flatten(),\n",
        "            nn.Linear(16 * 16 * 16, 64),\n",
        "            nn.ReLU(),\n",
        "            nn.Linear(64, 10)\n",
        "        )\n",
        "\n",
        "    def forward(self, x):\n",
        "        return self.model(x)\n",
        "\n",
        "model = ConvModel().to(device)\n",
        "\n",
        "loss = nn.CrossEntropyLoss()\n",
        "optimizer = optim.RMSprop(model.parameters(), lr=0.001, weight_decay=0.01)\n",
        "\n",
        "metrics = train(model, train_loader, test_loader, loss, optimizer, None, training_epochs)"
      ],
      "execution_count": 12,
      "outputs": [
        {
          "output_type": "stream",
          "text": [
            "  Epoch 0 @ step 0: Train Loss: 0.004300, Train Accuracy: 0.000000\n",
            "  Epoch 0 @ step 1000: Train Loss: 1.822004, Train Accuracy: 0.332750\n",
            "  Epoch 0 @ step 2000: Train Loss: 1.586224, Train Accuracy: 0.418750\n",
            "  Epoch 0 @ step 3000: Train Loss: 1.523183, Train Accuracy: 0.447875\n",
            "  Epoch 0 @ step 4000: Train Loss: 1.487685, Train Accuracy: 0.458750\n",
            "  Epoch 0 @ step 5000: Train Loss: 1.428467, Train Accuracy: 0.479000\n",
            "  Epoch 0 @ step 6000: Train Loss: 1.386292, Train Accuracy: 0.493125\n",
            "Epoch 0 Test Loss: 1.326506, Test Accuracy: 0.515500, time: 25.4s\n",
            "  Epoch 1 @ step 7000: Train Loss: 1.386930, Train Accuracy: 0.502750\n",
            "  Epoch 1 @ step 8000: Train Loss: 1.358515, Train Accuracy: 0.508625\n",
            "  Epoch 1 @ step 9000: Train Loss: 1.337683, Train Accuracy: 0.517125\n",
            "  Epoch 1 @ step 10000: Train Loss: 1.340716, Train Accuracy: 0.524625\n",
            "  Epoch 1 @ step 11000: Train Loss: 1.315446, Train Accuracy: 0.528875\n",
            "  Epoch 1 @ step 12000: Train Loss: 1.277310, Train Accuracy: 0.550375\n",
            "Epoch 1 Test Loss: 1.287463, Test Accuracy: 0.528700, time: 25.4s\n",
            "  Epoch 2 @ step 13000: Train Loss: 1.279525, Train Accuracy: 0.538500\n",
            "  Epoch 2 @ step 14000: Train Loss: 1.274899, Train Accuracy: 0.547625\n",
            "  Epoch 2 @ step 15000: Train Loss: 1.286337, Train Accuracy: 0.538375\n",
            "  Epoch 2 @ step 16000: Train Loss: 1.257913, Train Accuracy: 0.549375\n",
            "  Epoch 2 @ step 17000: Train Loss: 1.258430, Train Accuracy: 0.549500\n",
            "  Epoch 2 @ step 18000: Train Loss: 1.250655, Train Accuracy: 0.557625\n",
            "Epoch 2 Test Loss: 1.206263, Test Accuracy: 0.572700, time: 25.9s\n",
            "  Epoch 3 @ step 19000: Train Loss: 1.246221, Train Accuracy: 0.555625\n",
            "  Epoch 3 @ step 20000: Train Loss: 1.238670, Train Accuracy: 0.563750\n",
            "  Epoch 3 @ step 21000: Train Loss: 1.234246, Train Accuracy: 0.561500\n",
            "  Epoch 3 @ step 22000: Train Loss: 1.235957, Train Accuracy: 0.559500\n",
            "  Epoch 3 @ step 23000: Train Loss: 1.243608, Train Accuracy: 0.557250\n",
            "  Epoch 3 @ step 24000: Train Loss: 1.241341, Train Accuracy: 0.554250\n",
            "Epoch 3 Test Loss: 1.196937, Test Accuracy: 0.575300, time: 25.8s\n",
            "  Epoch 4 @ step 25000: Train Loss: 1.236063, Train Accuracy: 0.558625\n",
            "  Epoch 4 @ step 26000: Train Loss: 1.219319, Train Accuracy: 0.574125\n",
            "  Epoch 4 @ step 27000: Train Loss: 1.222137, Train Accuracy: 0.562000\n",
            "  Epoch 4 @ step 28000: Train Loss: 1.222963, Train Accuracy: 0.562125\n",
            "  Epoch 4 @ step 29000: Train Loss: 1.220108, Train Accuracy: 0.569625\n",
            "  Epoch 4 @ step 30000: Train Loss: 1.216495, Train Accuracy: 0.572625\n",
            "  Epoch 4 @ step 31000: Train Loss: 1.206313, Train Accuracy: 0.564375\n",
            "Epoch 4 Test Loss: 1.167630, Test Accuracy: 0.585300, time: 25.2s\n",
            "Final Test Loss: 1.167630, Test Accuracy: 0.585300, Total time: 127.6s\n"
          ],
          "name": "stdout"
        }
      ]
    },
    {
      "metadata": {
        "colab_type": "code",
        "id": "8BGTJw-TPTfh",
        "colab": {
          "base_uri": "https://localhost:8080/",
          "height": 573
        },
        "outputId": "c38ea71e-2124-45a3-dfae-ebf93ed1e462"
      },
      "cell_type": "code",
      "source": [
        "plot_graphs(\"ConvModel\", metrics)"
      ],
      "execution_count": 13,
      "outputs": [
        {
          "output_type": "display_data",
          "data": {
            "image/png": "[encoded data removed]",
            "text/plain": [
              "<Figure size 432x288 with 1 Axes>"
            ]
          },
          "metadata": {
            "tags": []
          }
        },
        {
          "output_type": "display_data",
          "data": {
            "image/png": "[encoded data removed]",
            "text/plain": [
              "<Figure size 432x288 with 1 Axes>"
            ]
          },
          "metadata": {
            "tags": []
          }
        }
      ]
    },
    {
      "metadata": {
        "colab_type": "text",
        "id": "oFAc6IORmzCJ"
      },
      "cell_type": "markdown",
      "source": [
        "Do you notice the improvement over the accuracy compared to that in Part 1?"
      ]
    },
    {
      "metadata": {
        "colab_type": "text",
        "id": "hXpJgsjhftDP"
      },
      "cell_type": "markdown",
      "source": [
        "## Part 3 Open Design Competition (35 Points + 10 bonus points)\n",
        "\n",
        "Try to beat the previous models by adding additional layers, changing parameters, etc.  You should add at least one layer.\n",
        "\n",
        "Possible changes include:\n",
        "*   Dropout\n",
        "*   Batch Normalization\n",
        "*   More layers\n",
        "*   Residual Connections (harder)\n",
        "*   Change layer size\n",
        "*   Pooling layers, stride\n",
        "*   Different optimizer\n",
        "*   Train for longer\n",
        "\n",
        "Once you have a model you think is great, evaluate it against our hidden test data (see hidden_loader above) and upload the results to the leader board on gradescope.  **The top 3 scorers will get a bonus 10 points.**\n",
        "\n",
        "You can steal model structures found on the internet if you want.  The only constraint is that **you must train the model from scratch**.\n"
      ]
    },
    {
      "metadata": {
        "colab_type": "code",
        "id": "QZFkuraiZOaT",
        "colab": {
          "base_uri": "https://localhost:8080/",
          "height": 51
        },
        "outputId": "14217f6e-5722-4fef-fcbf-5fe6bfd15de4"
      },
      "cell_type": "code",
      "source": [
        "# You Awesome Super Best model code here\n",
        "from torch.autograd import Variable, Function\n",
        "import torchvision\n",
        "#--depth 26 --base_channels 32 --shake_forward True --shake_backward True --shake_image True\n",
        "\n",
        "train_transform = torchvision.transforms.Compose([\n",
        "    torchvision.transforms.RandomCrop(32, padding=4),\n",
        "    torchvision.transforms.RandomHorizontalFlip(),\n",
        "    torchvision.transforms.ToTensor(),\n",
        "    torchvision.transforms.Normalize((0.5, 0.5, 0.5), (0.5, 0.5, 0.5)),\n",
        "])\n",
        "\n",
        "train_set = datasets.CIFAR10(root='hw10_data/', download=True, transform=train_transform)\n",
        "\n",
        "batch_size = 64\n",
        "    \n",
        "train_loader = torch.utils.data.DataLoader(train_set, batch_size, shuffle=True, num_workers=2)\n",
        "test_loader = torch.utils.data.DataLoader(test_set, batch_size, shuffle=True, num_workers=2)\n",
        "\n",
        "\n",
        "class ShakeFunction(Function):\n",
        "    @staticmethod\n",
        "    def forward(ctx, x1, x2, alpha, beta):\n",
        "        ctx.save_for_backward(x1, x2, alpha, beta)\n",
        "\n",
        "        y = x1 * alpha + x2 * (1 - alpha)\n",
        "        return y\n",
        "\n",
        "    @staticmethod\n",
        "    def backward(ctx, grad_output):\n",
        "        x1, x2, alpha, beta = ctx.saved_tensors\n",
        "        grad_x1 = grad_x2 = grad_alpha = grad_beta = None\n",
        "\n",
        "        if ctx.needs_input_grad[0]:\n",
        "            grad_x1 = grad_output * beta\n",
        "        if ctx.needs_input_grad[1]:\n",
        "            grad_x2 = grad_output * (1 - beta)\n",
        "\n",
        "        return grad_x1, grad_x2, grad_alpha, grad_beta\n",
        "\n",
        "\n",
        "shake_function = ShakeFunction.apply\n",
        "\n",
        "\n",
        "def get_alpha_beta(batch_size, shake_config, device):\n",
        "    forward_shake, backward_shake, shake_image = shake_config\n",
        "\n",
        "    if forward_shake and not shake_image:\n",
        "        alpha = torch.rand(1)\n",
        "    elif forward_shake and shake_image:\n",
        "        alpha = torch.rand(batch_size).view(batch_size, 1, 1, 1)\n",
        "    else:\n",
        "        alpha = torch.FloatTensor([0.5])\n",
        "\n",
        "    if backward_shake and not shake_image:\n",
        "        beta = torch.rand(1)\n",
        "    elif backward_shake and shake_image:\n",
        "        beta = torch.rand(batch_size).view(batch_size, 1, 1, 1)\n",
        "    else:\n",
        "        beta = torch.FloatTensor([0.5])\n",
        "\n",
        "    alpha = alpha.to(device)\n",
        "    beta = beta.to(device)\n",
        "\n",
        "    return alpha, beta\n",
        "    \n",
        "def initialize_weights(module):\n",
        "    if isinstance(module, nn.Conv2d):\n",
        "        nn.init.kaiming_normal_(module.weight.data, mode='fan_out')\n",
        "    elif isinstance(module, nn.BatchNorm2d):\n",
        "        module.weight.data.fill_(1)\n",
        "        module.bias.data.zero_()\n",
        "    elif isinstance(module, nn.Linear):\n",
        "        module.bias.data.zero_()\n",
        "\n",
        "\n",
        "class ResidualPath(nn.Module):\n",
        "    def __init__(self, in_channels, out_channels, stride):\n",
        "        super(ResidualPath, self).__init__()\n",
        "\n",
        "        self.conv1 = nn.Conv2d(\n",
        "            in_channels,\n",
        "            out_channels,\n",
        "            kernel_size=3,\n",
        "            stride=stride,\n",
        "            padding=1,\n",
        "            bias=False,\n",
        "        )\n",
        "        self.bn1 = nn.BatchNorm2d(out_channels)\n",
        "        self.conv2 = nn.Conv2d(\n",
        "            out_channels,\n",
        "            out_channels,\n",
        "            kernel_size=3,\n",
        "            stride=1,\n",
        "            padding=1,\n",
        "            bias=False)\n",
        "        self.bn2 = nn.BatchNorm2d(out_channels)\n",
        "\n",
        "    def forward(self, x):\n",
        "        x = nn.functional.relu(x, inplace=False)\n",
        "        x = nn.functional.relu(self.bn1(self.conv1(x)), inplace=False)\n",
        "        x = self.bn2(self.conv2(x))\n",
        "        return x\n",
        "\n",
        "\n",
        "class DownsamplingShortcut(nn.Module):\n",
        "    def __init__(self, in_channels):\n",
        "        super(DownsamplingShortcut, self).__init__()\n",
        "        self.conv1 = nn.Conv2d(\n",
        "            in_channels,\n",
        "            in_channels,\n",
        "            kernel_size=1,\n",
        "            stride=1,\n",
        "            padding=0,\n",
        "            bias=False)\n",
        "        self.conv2 = nn.Conv2d(\n",
        "            in_channels,\n",
        "            in_channels,\n",
        "            kernel_size=1,\n",
        "            stride=1,\n",
        "            padding=0,\n",
        "            bias=False)\n",
        "        self.bn = nn.BatchNorm2d(in_channels * 2)\n",
        "\n",
        "    def forward(self, x):\n",
        "        x = nn.functional.relu(x, inplace=False)\n",
        "        y1 = nn.functional.avg_pool2d(x, kernel_size=1, stride=2, padding=0)\n",
        "        y1 = self.conv1(y1)\n",
        "\n",
        "        y2 = nn.functional.pad(x[:, :, 1:, 1:], (0, 1, 0, 1))\n",
        "        y2 = nn.functional.avg_pool2d(y2, kernel_size=1, stride=2, padding=0)\n",
        "        y2 = self.conv2(y2)\n",
        "\n",
        "        z = torch.cat([y1, y2], dim=1)\n",
        "        z = self.bn(z)\n",
        "\n",
        "        return z\n",
        "\n",
        "\n",
        "class BasicBlock(nn.Module):\n",
        "    def __init__(self, in_channels, out_channels, stride, shake_config):\n",
        "        super(BasicBlock, self).__init__()\n",
        "\n",
        "        self.shake_config = shake_config\n",
        "\n",
        "        self.residual_path1 = ResidualPath(in_channels, out_channels, stride)\n",
        "        self.residual_path2 = ResidualPath(in_channels, out_channels, stride)\n",
        "\n",
        "        self.shortcut = nn.Sequential()\n",
        "        if in_channels != out_channels:\n",
        "            self.shortcut.add_module('downsample', DownsamplingShortcut(in_channels))\n",
        "\n",
        "    def forward(self, x):\n",
        "        x1 = self.residual_path1(x)\n",
        "        x2 = self.residual_path2(x)\n",
        "\n",
        "        if self.training:\n",
        "            shake_config = self.shake_config\n",
        "        else:\n",
        "            shake_config = (False, False, False)\n",
        "\n",
        "        alpha, beta = get_alpha_beta(x.size(0), shake_config, x.device)\n",
        "        y = shake_function(x1, x2, alpha, beta)\n",
        "\n",
        "        return self.shortcut(x) + y\n",
        "\n",
        "\n",
        "class Network(nn.Module):\n",
        "    def __init__(self):\n",
        "        super(Network, self).__init__()\n",
        "\n",
        "        input_shape = (1, 3, 32, 32)\n",
        "        n_classes = 10\n",
        "\n",
        "        base_channels = 32\n",
        "        depth = 26\n",
        "        self.shake_config = (True, True, True)\n",
        "\n",
        "        block = BasicBlock\n",
        "        n_blocks_per_stage = (depth - 2) // 6\n",
        "        assert n_blocks_per_stage * 6 + 2 == depth\n",
        "\n",
        "        n_channels = [base_channels, base_channels * 2, base_channels * 4]\n",
        "\n",
        "        self.conv = nn.Conv2d(\n",
        "            input_shape[1],\n",
        "            n_channels[0],\n",
        "            kernel_size=3,\n",
        "            stride=1,\n",
        "            padding=1,\n",
        "            bias=False)\n",
        "        self.bn = nn.BatchNorm2d(base_channels)\n",
        "\n",
        "        self.stage1 = self._make_stage(\n",
        "            n_channels[0], n_channels[0], n_blocks_per_stage, block, stride=1)\n",
        "        self.stage2 = self._make_stage(\n",
        "            n_channels[0], n_channels[1], n_blocks_per_stage, block, stride=2)\n",
        "        self.stage3 = self._make_stage(\n",
        "            n_channels[1], n_channels[2], n_blocks_per_stage, block, stride=2)\n",
        "\n",
        "        # compute conv feature size\n",
        "        with torch.no_grad():\n",
        "            self.feature_size = self._forward_conv(\n",
        "                torch.zeros(*input_shape)).view(-1).shape[0]\n",
        "\n",
        "        self.fc = nn.Linear(self.feature_size, n_classes)\n",
        "\n",
        "        # initialize weights\n",
        "        self.apply(initialize_weights)\n",
        "\n",
        "    def _make_stage(self, in_channels, out_channels, n_blocks, block, stride):\n",
        "        stage = nn.Sequential()\n",
        "        for index in range(n_blocks):\n",
        "            block_name = 'block{}'.format(index + 1)\n",
        "            if index == 0:\n",
        "                stage.add_module(\n",
        "                    block_name,\n",
        "                    block(\n",
        "                        in_channels,\n",
        "                        out_channels,\n",
        "                        stride=stride,\n",
        "                        shake_config=self.shake_config))\n",
        "            else:\n",
        "                stage.add_module(\n",
        "                    block_name,\n",
        "                    block(\n",
        "                        out_channels,\n",
        "                        out_channels,\n",
        "                        stride=1,\n",
        "                        shake_config=self.shake_config))\n",
        "        return stage\n",
        "\n",
        "    def _forward_conv(self, x):\n",
        "        x = nn.functional.relu(self.bn(self.conv(x)), inplace=True)\n",
        "        x = self.stage1(x)\n",
        "        x = self.stage2(x)\n",
        "        x = self.stage3(x)\n",
        "        x = nn.functional.adaptive_avg_pool2d(x, output_size=1)\n",
        "        return x\n",
        "\n",
        "    def forward(self, x):\n",
        "        x = self._forward_conv(x)\n",
        "        x = x.view(x.size(0), -1)\n",
        "        x = self.fc(x)\n",
        "        return x\n",
        "\n",
        "epochs = 50\n",
        "                                                  \n",
        "model = Network()\n",
        "model.cuda()\n",
        "optimizer = torch.optim.SGD(\n",
        "        model.parameters(),\n",
        "        lr=0.1,\n",
        "        momentum=0.9,\n",
        "        weight_decay=1e-4,\n",
        "        nesterov=True)\n",
        "scheduler = torch.optim.lr_scheduler.CosineAnnealingLR(optimizer, epochs * len(train_loader))\n",
        "metrics = train(model, train_loader, test_loader, loss, optimizer, scheduler, epochs)"
      ],
      "execution_count": 0,
      "outputs": [
        {
          "output_type": "stream",
          "text": [
            "Files already downloaded and verified\n",
            "  Epoch 0 @ step 0: Train Loss: 0.004320, Train Accuracy: 0.000109\n"
          ],
          "name": "stdout"
        }
      ]
    },
    {
      "metadata": {
        "colab_type": "text",
        "id": "xbx5REUdc-Xs"
      },
      "cell_type": "markdown",
      "source": [
        "**What changes did you make to improve your model?**"
      ]
    },
    {
      "metadata": {
        "colab_type": "code",
        "id": "uItu0w4fZTuG",
        "colab": {
          "base_uri": "https://localhost:8080/",
          "height": 573
        },
        "outputId": "9e2b1db0-43a3-40c1-c481-cbbbeb975816"
      },
      "cell_type": "code",
      "source": [
        "plot_graphs(\"AwesomeModel\", metrics)"
      ],
      "execution_count": 20,
      "outputs": [
        {
          "output_type": "display_data",
          "data": {
            "image/png": "[encoded data removed]",
            "text/plain": [
              "<Figure size 432x288 with 1 Axes>"
            ]
          },
          "metadata": {
            "tags": []
          }
        },
        {
          "output_type": "display_data",
          "data": {
            "image/png": "[encoded data removed]",
            "text/plain": [
              "<Figure size 432x288 with 1 Axes>"
            ]
          },
          "metadata": {
            "tags": []
          }
        }
      ]
    },
    {
      "metadata": {
        "colab_type": "text",
        "id": "rWlP2WsodgK0"
      },
      "cell_type": "markdown",
      "source": [
        "After you get a nice model, download the test_file.zip and unzip it to get test_file.pt. In colab, you can explore your files from the left side bar. You can also download the files to your machine from there."
      ]
    },
    {
      "metadata": {
        "colab_type": "code",
        "id": "Z6UZInUCdfQ1",
        "colab": {
          "base_uri": "https://localhost:8080/",
          "height": 335
        },
        "outputId": "59e522e4-cdfb-4c8f-8b78-51343f41e32a"
      },
      "cell_type": "code",
      "source": [
        "!wget http://courses.engr.illinois.edu/cs498aml/sp2019/homeworks/test_file.zip\n",
        "!unzip test_file.zip"
      ],
      "execution_count": 21,
      "outputs": [
        {
          "output_type": "stream",
          "text": [
            "--2019-04-27 04:44:54--  http://courses.engr.illinois.edu/cs498aml/sp2019/homeworks/test_file.zip\n",
            "Resolving courses.engr.illinois.edu (courses.engr.illinois.edu)... 130.126.151.9\n",
            "Connecting to courses.engr.illinois.edu (courses.engr.illinois.edu)|130.126.151.9|:80... connected.\n",
            "HTTP request sent, awaiting response... 301 Moved Permanently\n",
            "Location: https://courses.engr.illinois.edu/cs498aml/sp2019/homeworks/test_file.zip [following]\n",
            "--2019-04-27 04:44:54--  https://courses.engr.illinois.edu/cs498aml/sp2019/homeworks/test_file.zip\n",
            "Connecting to courses.engr.illinois.edu (courses.engr.illinois.edu)|130.126.151.9|:443... connected.\n",
            "HTTP request sent, awaiting response... 200 OK\n",
            "Length: 3841776 (3.7M) [application/x-zip-compressed]\n",
            "Saving to: ‘test_file.zip’\n",
            "\n",
            "test_file.zip       100%[===================>]   3.66M  3.36MB/s    in 1.1s    \n",
            "\n",
            "2019-04-27 04:44:55 (3.36 MB/s) - ‘test_file.zip’ saved [3841776/3841776]\n",
            "\n",
            "Archive:  test_file.zip\n",
            "  inflating: test_file.pt            \n"
          ],
          "name": "stdout"
        }
      ]
    },
    {
      "metadata": {
        "colab_type": "text",
        "id": "7g5caFPreMLT"
      },
      "cell_type": "markdown",
      "source": [
        "Then use your model to predict the label of the test images. Fill the remaining code below, where x has two dimensions (batch_size x one image size). Remember to reshpe x accordingly before feeding it into your model. The submission.txt should contain one predicted label (0~9) each line. Submit your submission.txt to the competition in gradscope."
      ]
    },
    {
      "metadata": {
        "colab_type": "code",
        "id": "yNdYAH9XeLlb",
        "colab": {
          "base_uri": "https://localhost:8080/",
          "height": 232
        },
        "outputId": "4baef339-67dd-44ab-8c21-8eebedefcb96"
      },
      "cell_type": "code",
      "source": [
        "import torch.utils.data as Data\n",
        "\n",
        "test_file = 'test_file.pt'\n",
        "pred_file = 'submission.txt'\n",
        "\n",
        "f_pred = open(pred_file,'w') \n",
        "tensor = torch.load(test_file)\n",
        "torch_dataset = Data.TensorDataset(tensor)  \n",
        "test_loader = torch.utils.data.DataLoader(torch_dataset, batch_size, shuffle=False, num_workers=2)\n",
        "\n",
        "for ele in test_loader:\n",
        "    x = ele[0]\n",
        "    y = model(x.view(batch_size, 3, 3, 3))\n",
        "    _, pred = torch.max(y, 1)\n",
        "    f_pred.write(pred)\n",
        "    f_pred.write('\\n')\n",
        "    \n",
        "f_pred.close()"
      ],
      "execution_count": 28,
      "outputs": [
        {
          "output_type": "error",
          "ename": "RuntimeError",
          "evalue": "ignored",
          "traceback": [
            "\u001b[0;31m---------------------------------------------------------------------------\u001b[0m",
            "\u001b[0;31mRuntimeError\u001b[0m                              Traceback (most recent call last)",
            "\u001b[0;32m<ipython-input-28-b61e68a6e792>\u001b[0m in \u001b[0;36m<module>\u001b[0;34m()\u001b[0m\n\u001b[1;32m     11\u001b[0m \u001b[0;32mfor\u001b[0m \u001b[0mele\u001b[0m \u001b[0;32min\u001b[0m \u001b[0mtest_loader\u001b[0m\u001b[0;34m:\u001b[0m\u001b[0;34m\u001b[0m\u001b[0;34m\u001b[0m\u001b[0m\n\u001b[1;32m     12\u001b[0m     \u001b[0mx\u001b[0m \u001b[0;34m=\u001b[0m \u001b[0mele\u001b[0m\u001b[0;34m[\u001b[0m\u001b[0;36m0\u001b[0m\u001b[0;34m]\u001b[0m\u001b[0;34m\u001b[0m\u001b[0;34m\u001b[0m\u001b[0m\n\u001b[0;32m---> 13\u001b[0;31m     \u001b[0my\u001b[0m \u001b[0;34m=\u001b[0m \u001b[0mmodel\u001b[0m\u001b[0;34m(\u001b[0m\u001b[0mx\u001b[0m\u001b[0;34m.\u001b[0m\u001b[0mview\u001b[0m\u001b[0;34m(\u001b[0m\u001b[0mbatch_size\u001b[0m\u001b[0;34m,\u001b[0m \u001b[0;36m3\u001b[0m\u001b[0;34m,\u001b[0m \u001b[0;36m3\u001b[0m\u001b[0;34m,\u001b[0m \u001b[0;36m3\u001b[0m\u001b[0;34m)\u001b[0m\u001b[0;34m)\u001b[0m\u001b[0;34m\u001b[0m\u001b[0;34m\u001b[0m\u001b[0m\n\u001b[0m\u001b[1;32m     14\u001b[0m     \u001b[0m_\u001b[0m\u001b[0;34m,\u001b[0m \u001b[0mpred\u001b[0m \u001b[0;34m=\u001b[0m \u001b[0mtorch\u001b[0m\u001b[0;34m.\u001b[0m\u001b[0mmax\u001b[0m\u001b[0;34m(\u001b[0m\u001b[0my\u001b[0m\u001b[0;34m,\u001b[0m \u001b[0;36m1\u001b[0m\u001b[0;34m)\u001b[0m\u001b[0;34m\u001b[0m\u001b[0;34m\u001b[0m\u001b[0m\n\u001b[1;32m     15\u001b[0m     \u001b[0mf_pred\u001b[0m\u001b[0;34m.\u001b[0m\u001b[0mwrite\u001b[0m\u001b[0;34m(\u001b[0m\u001b[0mpred\u001b[0m\u001b[0;34m)\u001b[0m\u001b[0;34m\u001b[0m\u001b[0;34m\u001b[0m\u001b[0m\n",
            "\u001b[0;31mRuntimeError\u001b[0m: shape '[32, 3, 3, 3]' is invalid for input of size 98304"
          ]
        }
      ]
    },
    {
      "metadata": {
        "colab_type": "text",
        "id": "8-L6F0CMqc-A"
      },
      "cell_type": "markdown",
      "source": [
        "\n",
        "# Report\n",
        "\n",
        "## Part 0: Imports and Basic Setup (5 Points)\n",
        "Nothing to report for this part. You will be just scored for finishing the setup.\n",
        "\n",
        "## Part 1: Fully connected neural networks (25 Points)\n",
        "\n",
        "Test (on validation set) accuracy (5 Points):\n",
        "\n",
        "Test loss (5 Points):\n",
        "\n",
        "Training time (5 Points):\n",
        "\n",
        "\n",
        "Plots:\n",
        "\n",
        "- Plot a graph of accuracy on validation set vs training steps (5 Points)\n",
        "\n",
        "- Plot a graph of loss on validation set vs training steps (5 Points)\n",
        "\n",
        "\n",
        "## Part 2: Convolution Network (Basic) (35 Points)\n",
        "\n",
        "Tensor dimensions: A good way to debug your network for size mismatches is to print the dimension of output after every layers:\n",
        "\n",
        "(10 Points)\n",
        "\n",
        "Output dimension after 1st conv layer: \n",
        "\n",
        "Output dimension after 1st max pooling: \n",
        "\n",
        "Output dimension after 2nd conv layer: \n",
        "\n",
        "Output dimension after flatten layer:\n",
        "\n",
        "Output dimension after 1st fully connected layer:\n",
        "\n",
        "Output dimension after 2nd fully connected layer:\n",
        "\n",
        "\n",
        "Test (on validation set) Accuracy (5 Points):\n",
        "\n",
        "Test loss (5 Points):\n",
        "\n",
        "Training time (5 Points):\n",
        "\n",
        "\n",
        "Plots:\n",
        "\n",
        "- Plot a graph of accuracy on validation set vs training steps (5 Points)\n",
        "\n",
        "- Plot a graph of loss on validation set vs training steps (5 Points)\n",
        "\n",
        "\n",
        "\n",
        "## Part 3: Convolution Network (Add one or more  suggested changes) (35 Points)\n",
        "\n",
        "Describe the additional changes implemented, your intuition for as to why it works, you may also describe other approaches you experimented with (10 Points):\n",
        "\n",
        "\n",
        "Test (on validation set) Accuracy (5 Points):\n",
        "\n",
        "Test loss (5 Points):\n",
        "\n",
        "Training time (5 Points):\n",
        "\n",
        "\n",
        "Plots:\n",
        "\n",
        "- Plot a graph of accuracy on validation set vs training steps (5 Points)\n",
        "\n",
        "- Plot a graph of loss on validation set vs training steps (5 Points)\n",
        "\n",
        "10 bonus points will be awarded to top 3 scorers on leaderboard (in case of tie for 3rd position everyone tied for 3rd position will get the bonus)"
      ]
    },
    {
      "metadata": {
        "colab_type": "code",
        "id": "cMpXJT3p1tjB",
        "colab": {}
      },
      "cell_type": "code",
      "source": [
        ""
      ],
      "execution_count": 0,
      "outputs": []
    }
  ]
}